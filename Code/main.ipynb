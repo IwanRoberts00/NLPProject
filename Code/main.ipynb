{
 "cells": [
  {
   "cell_type": "code",
   "execution_count": 2,
   "id": "6fcba1d4",
   "metadata": {},
   "outputs": [],
   "source": [
    "import pandas as pd\n",
    "import numpy as np\n",
    "from io import StringIO\n",
    "import matplotlib.pyplot as plt\n",
    "#Machine learning\n",
    "from sklearn.feature_extraction.text import CountVectorizer\n",
    "from sklearn.model_selection import train_test_split\n",
    "from sklearn.naive_bayes import MultinomialNB\n",
    "from sklearn.feature_extraction.text import TfidfVectorizer\n",
    "from sklearn.svm import SVC\n",
    "from sklearn.svm import LinearSVC\n",
    "from sklearn.ensemble import RandomForestClassifier\n",
    "from sklearn.naive_bayes import MultinomialNB\n",
    "#Metrics\n",
    "from sklearn.metrics import accuracy_score\n",
    "from sklearn.metrics import confusion_matrix\n",
    "from sklearn.metrics import ConfusionMatrixDisplay\n",
    "from sklearn.metrics import precision_recall_fscore_support\n"
   ]
  },
  {
   "cell_type": "code",
   "execution_count": 3,
   "id": "ca3d17c3",
   "metadata": {},
   "outputs": [],
   "source": [
    "######################################################\n",
    "############## DIALECT IDENTIFICATION ################\n",
    "######################################################"
   ]
  },
  {
   "cell_type": "code",
   "execution_count": 6,
   "id": "a7bd544d",
   "metadata": {},
   "outputs": [],
   "source": [
    "#TEST THAT DIALECT IDENTIFICATION WORKS CORRECTLY\n",
    "tfidf = TfidfVectorizer(stop_words='english', min_df=5, max_df=0.8, ngram_range=[1,3])\n",
    "dfs_x = dfs[\"Document\"]\n",
    "dfs_y = dfs[\"Label\"]\n",
    "x_train, x_test, y_train, y_test = train_test_split(dfs_x, dfs_y, test_size=0.2, random_state=4)\n",
    "x_train = tfidf.fit_transform(x_train)\n",
    "x_test = tfidf.transform(x_test)\n",
    "dialect_clf = MultinomialNB()\n",
    "#dialect_clf = SVC(kernel=\"sigmoid\")\n",
    "#dialect_clf = LinearSVC()\n",
    "#dialect_clf = RandomForestClassifier()\n",
    "dialect_clf.fit(x_train, y_train)\n",
    "y_pred = dialect_clf.predict(x_test)"
   ]
  },
  {
   "cell_type": "code",
   "execution_count": 5,
   "id": "a3859d78",
   "metadata": {},
   "outputs": [
    {
     "name": "stdout",
     "output_type": "stream",
     "text": [
      "300\n",
      "600\n",
      "900\n",
      "1200\n",
      "1500\n"
     ]
    }
   ],
   "source": [
    "dfs = []\n",
    "datasets = []\n",
    "labels = [\"HongKong\", \"Philippines\", \"Singapore\", \"Canada\", \"India\"]\n",
    "for dialect in range(len(labels)):\n",
    "    comb=None\n",
    "    for i in range(300):\n",
    "        with open(\"..\\CleanCorpora\\{0}\\_{0}CorporaCombined{1}.txt\".format(labels[dialect], i), \"r\", encoding='UTF-8') as file:\n",
    "            text = file.read()\n",
    "        df = pd.DataFrame({\"Label\": labels[dialect], \"Document\": [text]})\n",
    "        dfs.append(df)\n",
    "    print(len(dfs))\n",
    "    comb = pd.concat(dfs, ignore_index=True)\n",
    "    datasets.append(comb)\n",
    "#Concatenate all 4 dialects\n",
    "dfs = pd.concat(datasets, ignore_index=True)\n",
    "dialect_dfs = dfs"
   ]
  },
  {
   "cell_type": "code",
   "execution_count": null,
   "id": "fc506268",
   "metadata": {},
   "outputs": [],
   "source": [
    "print(y_p)"
   ]
  },
  {
   "cell_type": "code",
   "execution_count": null,
   "id": "d2f8db7c",
   "metadata": {},
   "outputs": [],
   "source": [
    "#Accuracy, Feature importance, and Confusion Matrix\n",
    "acc = accuracy_score(y_test, y_pred)\n",
    "print(\"Accuracy: {:.2f}%\".format(acc * 100))\n",
    "print(\"==========\")"
   ]
  },
  {
   "cell_type": "code",
   "execution_count": null,
   "id": "e06460a9",
   "metadata": {},
   "outputs": [],
   "source": [
    "######################################################\n",
    "################ SENTIMENT ANALYSIS ##################\n",
    "######################################################"
   ]
  },
  {
   "cell_type": "code",
   "execution_count": null,
   "id": "b978714e",
   "metadata": {},
   "outputs": [],
   "source": [
    "#Malay -> Indian -> Reference\n",
    "sentiment_comb = []"
   ]
  },
  {
   "cell_type": "code",
   "execution_count": 7,
   "id": "befa1965",
   "metadata": {},
   "outputs": [
    {
     "name": "stdout",
     "output_type": "stream",
     "text": [
      "<class 'pandas.core.frame.DataFrame'>\n",
      "698\n"
     ]
    }
   ],
   "source": [
    "#Read the Malay file\n",
    "sentiment_comb = []\n",
    "filepath = \"../Corpora/Sentiment-Malay/data_cleaned/TripAdvisor_data_cleaned.csv\"\n",
    "df = pd.read_csv(filepath, sep=\",\", engine=\"python\", encoding=\"ISO-8859-1\", nrows=6000)\n",
    "df=df.drop([\"Author\", \"Restaurant\", \"Location\"], axis=1)\n",
    "df=df[df[\"Rating\"]!=3.0]\n",
    "print(type(df))\n",
    "df.loc[df[\"Rating\"] == 4.0, \"Rating\"] = \"positive\"\n",
    "df.loc[df[\"Rating\"] == 5.0, \"Rating\"] = \"positive\"\n",
    "df.loc[df[\"Rating\"] == 2.0, \"Rating\"] = \"negative\"\n",
    "df.loc[df[\"Rating\"] == 1.0, \"Rating\"] = \"negative\"\n",
    "not_positive_rows = df[df['Rating'] != 'positive']\n",
    "positive_rows = df[df['Rating'] == 'positive']\n",
    "positive_sample = positive_rows.sample(frac=0.1, random_state=42)\n",
    "df = pd.concat([not_positive_rows, positive_sample])\n",
    "df = df.replace(to_replace=r'[^\\w\\s]', value='', regex=True)\n",
    "sentiment_malay_df = df\n",
    "export_malay_df = df\n",
    "print(len(df))\n",
    "sentiment_comb.append(df)"
   ]
  },
  {
   "cell_type": "code",
   "execution_count": 8,
   "id": "e1842e28",
   "metadata": {},
   "outputs": [
    {
     "name": "stdout",
     "output_type": "stream",
     "text": [
      "Size:  1862 \n",
      "Head:\n",
      "      Rating                                             Review\n",
      "0  negative  I bought this hair oil after viewing so many g...\n",
      "1  positive  Used This Mama Earth Newly Launched Onion Oil ...\n",
      "2  negative  So bad productMy hair falling increase too muc...\n",
      "3  negative  Product just smells similar to navarathna hair...\n",
      "4  positive  I have been trying different onion oil for my ...\n"
     ]
    }
   ],
   "source": [
    "#Read the Indian file\n",
    "sentiment_comb = []\n",
    "filepath = \"../Corpora/Sentiment-Indian/amazon_vfl_reviews.csv\"\n",
    "df = pd.read_csv(filepath, sep=\",\", engine=\"python\", encoding=\"ISO-8859-1\", nrows=1000)\n",
    "df=df.drop([\"asin\", \"name\", \"date\"], axis=1)\n",
    "df=df.rename(columns={\"rating\":\"Rating\"})\n",
    "df=df.rename(columns={\"review\":\"Review\"})\n",
    "df=df[df[\"Rating\"]!=3.0]\n",
    "df.loc[df[\"Rating\"] == 4.0, \"Rating\"] = \"positive\"\n",
    "df.loc[df[\"Rating\"] == 5.0, \"Rating\"] = \"positive\"\n",
    "df.loc[df[\"Rating\"] == 2.0, \"Rating\"] = \"negative\"\n",
    "df.loc[df[\"Rating\"] == 1.0, \"Rating\"] = \"negative\"\n",
    "df = df.replace(to_replace=r'[^\\w\\s]', value='', regex=True)\n",
    "sentiment_indian_df = df\n",
    "export_indian_df = df\n",
    "print(\"Size: \",df.size, \"\\nHead:\\n\", df.head())\n",
    "sentiment_comb.append(df)"
   ]
  },
  {
   "cell_type": "code",
   "execution_count": 9,
   "id": "54b5c1fa",
   "metadata": {},
   "outputs": [],
   "source": [
    "#Read the Reference file\n",
    "sentiment_comb = []\n",
    "filepath = \"../Corpora/Sentiment-Reference/test.txt.txt\"\n",
    "df = pd.DataFrame()\n",
    "df[\"X\"] = pd.read_csv(filepath, sep=\"\\t\", engine=\"python\", encoding=\"ISO-8859-1\", nrows=2000)\n",
    "df[[\"Rating\", \"Review\"]] = df[\"X\"].str.split(\" \", n=1, expand=True)\n",
    "df.drop(\"X\", axis=1, inplace=True)\n",
    "df.loc[df[\"Rating\"] == \"__label__1\", \"Rating\"] = \"negative\"\n",
    "df.loc[df[\"Rating\"] == \"__label__2\", \"Rating\"] = \"positive\"\n",
    "df.head()\n",
    "sentiment_ref_df = df\n",
    "export_ref_df = df\n",
    "sentiment_comb.append(df)"
   ]
  },
  {
   "cell_type": "code",
   "execution_count": null,
   "id": "3096d296",
   "metadata": {},
   "outputs": [],
   "source": [
    "y_test_comb = []\n",
    "x_test_comb = []"
   ]
  },
  {
   "cell_type": "code",
   "execution_count": 10,
   "id": "e3619c24",
   "metadata": {},
   "outputs": [],
   "source": [
    "#Train the model\n",
    "#Singapores\n",
    "df = sentiment_malay_df\n",
    "tfidf = TfidfVectorizer(stop_words='english', min_df=5, max_df=0.8, ngram_range=[1,3])\n",
    "dfs_x = df[\"Review\"]\n",
    "dfs_y = df[\"Rating\"]\n",
    "x_train, x_test, y_train, y_test = train_test_split(dfs_x, dfs_y, test_size=0.2, random_state=3)\n",
    "x_train = tfidf.fit_transform(x_train)\n",
    "x_test = tfidf.transform(x_test)\n",
    "malay_clf = MultinomialNB()\n",
    "#malay_clf = SVC(kernel=\"sigmoid\")\n",
    "#malay_clf = LinearSVC()\n",
    "#malay_clf = RandomForestClassifier()\n",
    "malay_clf.fit(x_train, y_train)\n",
    "y_pred = malay_clf.predict(x_test)"
   ]
  },
  {
   "cell_type": "code",
   "execution_count": 11,
   "id": "dfdc41a3",
   "metadata": {},
   "outputs": [
    {
     "name": "stdout",
     "output_type": "stream",
     "text": [
      "Accuracy: 91.43%\n",
      "Precision:  0.9225806451612902\n",
      "Recall:  0.9142857142857143\n",
      "fscore:  0.9047765793528504\n",
      "==========\n",
      "Confusion Matrix: \n",
      "\n"
     ]
    },
    {
     "data": {
      "image/png": "[encoded data removed]",
      "text/plain": [
       "<Figure size 432x288 with 2 Axes>"
      ]
     },
     "metadata": {
      "needs_background": "light"
     },
     "output_type": "display_data"
    }
   ],
   "source": [
    "acc = accuracy_score(y_test, y_pred)\n",
    "print(\"Accuracy: {:.2f}%\".format(acc * 100))\n",
    "precision, recall, fscore, support = precision_recall_fscore_support(y_test, y_pred, zero_division=0, average=\"weighted\")\n",
    "print(\"Precision: \", precision)\n",
    "print(\"Recall: \", recall)\n",
    "print(\"fscore: \", fscore)\n",
    "print(\"==========\")\n",
    "print(\"Confusion Matrix: \\n\")\n",
    "conf_matrix = confusion_matrix(y_test, y_pred, labels=malay_clf.classes_)\n",
    "disp = ConfusionMatrixDisplay(confusion_matrix=conf_matrix, display_labels=malay_clf.classes_)\n",
    "disp.plot()\n",
    "plt.show()\n"
   ]
  },
  {
   "cell_type": "code",
   "execution_count": 12,
   "id": "77b8a396",
   "metadata": {},
   "outputs": [],
   "source": [
    "#Train the model\n",
    "#Indian\n",
    "df = sentiment_indian_df\n",
    "tfidf = TfidfVectorizer(stop_words='english', min_df=5, max_df=0.8, ngram_range=[1,3])\n",
    "dfs_x = df[\"Review\"]\n",
    "dfs_y = df[\"Rating\"]\n",
    "x_train, x_test, y_train, y_test = train_test_split(dfs_x, dfs_y, test_size=0.2, random_state=0)\n",
    "x_train = tfidf.fit_transform(x_train)\n",
    "indian_x_test = tfidf.transform(x_test)\n",
    "indian_clf = MultinomialNB()\n",
    "#malay_clf = SVC(kernel=\"sigmoid\")\n",
    "#malay_clf = LinearSVC()\n",
    "#malay_clf = RandomForestClassifier()\n",
    "indian_clf.fit(x_train, y_train)\n",
    "y_pred = indian_clf.predict(indian_x_test)"
   ]
  },
  {
   "cell_type": "code",
   "execution_count": 13,
   "id": "0c9be8ec",
   "metadata": {},
   "outputs": [
    {
     "name": "stdout",
     "output_type": "stream",
     "text": [
      "Accuracy: 87.70%\n",
      "Precision:  0.8943604212460221\n",
      "Recall:  0.8770053475935828\n",
      "fscore:  0.8617517924120499\n",
      "==========\n",
      "Feature Importance:\n",
      "\n",
      "Label: Negative\n",
      "use: 0.3081901560503926\n",
      "leather straps: 0.29220116827954934\n",
      "wrist: 0.2844639796634029\n",
      "straps: 0.27776172202775445\n",
      "cheap: 0.27184991181921714\n",
      "\n",
      "Label: Positive\n",
      "ubtan: 0.39993230309689026\n",
      "facewash: 0.33736734800475326\n",
      "skin: 0.21923215243586786\n",
      "glow skin: 0.2149360384478544\n",
      "helps removing: 0.2149360384478544\n",
      "==========\n",
      "Confusion Matrix: \n",
      "\n"
     ]
    },
    {
     "data": {
      "image/png": "[encoded data removed]",
      "text/plain": [
       "<Figure size 432x288 with 2 Axes>"
      ]
     },
     "metadata": {
      "needs_background": "light"
     },
     "output_type": "display_data"
    }
   ],
   "source": [
    "acc = accuracy_score(y_test, y_pred)\n",
    "print(\"Accuracy: {:.2f}%\".format(acc * 100))\n",
    "precision, recall, fscore, support = precision_recall_fscore_support(y_test, y_pred, zero_division=0, average=\"weighted\")\n",
    "print(\"Precision: \", precision)\n",
    "print(\"Recall: \", recall)\n",
    "print(\"fscore: \", fscore)\n",
    "print(\"==========\")\n",
    "print(\"Feature Importance:\")\n",
    "labels = [\"Negative\", \"Positive\"]\n",
    "tfidf_values = x_train.toarray()\n",
    "feature_names = tfidf.get_feature_names_out()\n",
    "word_tfidf = {}\n",
    "for i, label in enumerate(labels):\n",
    "    for word, tfidf_val in zip(feature_names, tfidf_values[i]):\n",
    "        if label in word_tfidf:\n",
    "            word_tfidf[label][word] = tfidf_val\n",
    "        else:\n",
    "            word_tfidf[label] = {word: tfidf_val}\n",
    "\n",
    "sorted_words = {label:sorted(word_tfidf[label].items(), key=lambda x: x[1], reverse=True) for label in labels}\n",
    "\n",
    "n = 5\n",
    "for label in labels:\n",
    "    print(f\"\\nLabel: {label}\")\n",
    "    for word, tfidf_val in sorted_words[label][:n]:\n",
    "        print(f\"{word}: {tfidf_val}\")\n",
    "print(\"==========\")\n",
    "print(\"Confusion Matrix: \\n\")\n",
    "conf_matrix = confusion_matrix(y_test, y_pred, labels=indian_clf.classes_)\n",
    "disp = ConfusionMatrixDisplay(confusion_matrix=conf_matrix, display_labels=indian_clf.classes_)\n",
    "disp.plot()\n",
    "plt.show()\n"
   ]
  },
  {
   "cell_type": "code",
   "execution_count": 14,
   "id": "df7c0da4",
   "metadata": {},
   "outputs": [
    {
     "name": "stdout",
     "output_type": "stream",
     "text": [
      "931 698\n"
     ]
    }
   ],
   "source": [
    "#Combine all the models\n",
    "import_indian_df = export_indian_df\n",
    "import_indian_df[\"Rating\"] = \"India\"\n",
    "import_malay_df = export_malay_df\n",
    "import_malay_df[\"Rating\"] = \"Singapore\"\n",
    "sa_combined_df = pd.concat([import_indian_df, import_malay_df])\n",
    "print(len(import_indian_df), len(import_malay_df))"
   ]
  },
  {
   "cell_type": "code",
   "execution_count": 15,
   "id": "f46a3035",
   "metadata": {
    "scrolled": true
   },
   "outputs": [
    {
     "name": "stdout",
     "output_type": "stream",
     "text": [
      "Reference model tested on Reference dataset\n",
      "Accuracy: 78.25%\n",
      "Precision:  0.7910894047345438\n",
      "Recall:  0.7825\n",
      "fscore:  0.7813741176470589\n",
      "==========\n",
      "Feature Importance:\n",
      "0.001969248565576085\n",
      "\n",
      "Label: Negative\n",
      "worth buying: 0.39936607816385283\n",
      "episodes: 0.37917544706827205\n",
      "buying: 0.2844574829716025\n",
      "worth: 0.24805911715451454\n",
      "bad: 0.22873565068477755\n",
      "\n",
      "Label: Positive\n",
      "router: 0.6458664833570184\n",
      "internet: 0.3030538380716051\n",
      "range: 0.2850247914922847\n",
      "bad: 0.17688058685936697\n",
      "hopefully: 0.1576877215957872\n",
      "==========\n",
      "Confusion Matrix: \n",
      "\n"
     ]
    },
    {
     "data": {
      "image/png": "[encoded data removed]",
      "text/plain": [
       "<Figure size 432x288 with 2 Axes>"
      ]
     },
     "metadata": {
      "needs_background": "light"
     },
     "output_type": "display_data"
    }
   ],
   "source": [
    "#Train the model\n",
    "#Reference\n",
    "df = sentiment_ref_df\n",
    "tfidf = TfidfVectorizer(stop_words='english', min_df=5, max_df=0.8, ngram_range=[1,3])\n",
    "dfs_x = df[\"Review\"]\n",
    "dfs_y = df[\"Rating\"]\n",
    "x_train, x_test, y_train, y_test = train_test_split(dfs_x, dfs_y, test_size=0.2, random_state=4)\n",
    "x_train = tfidf.fit_transform(x_train)\n",
    "x_test = tfidf.transform(x_test)\n",
    "ref_clf=MultinomialNB()\n",
    "#ref_clf = SVC(kernel=\"sigmoid\")\n",
    "#malay_clf = SVC(kernel=\"sigmoid\")\n",
    "#malay_clf = LinearSVC()\n",
    "#malay_clf = RandomForestClassifier()\n",
    "ref_clf.fit(x_train, y_train)\n",
    "y_pred = ref_clf.predict(x_test)\n",
    "acc = accuracy_score(y_test, y_pred)\n",
    "print(\"Reference model tested on Reference dataset\")\n",
    "print(\"Accuracy: {:.2f}%\".format(acc * 100))\n",
    "precision, recall, fscore, support = precision_recall_fscore_support(y_test, y_pred, zero_division=0, average=\"weighted\")\n",
    "print(\"Precision: \", precision)\n",
    "print(\"Recall: \", recall)\n",
    "print(\"fscore: \", fscore)\n",
    "print(\"==========\")\n",
    "print(\"Feature Importance:\")\n",
    "labels = [\"Negative\", \"Positive\"]\n",
    "tfidf_values = x_train.toarray()\n",
    "print(np.mean(tfidf_values))\n",
    "feature_names = tfidf.get_feature_names_out()\n",
    "word_tfidf = {}\n",
    "for i, label in enumerate(labels):\n",
    "    for word, tfidf_val in zip(feature_names, tfidf_values[i]):\n",
    "        if label in word_tfidf:\n",
    "            word_tfidf[label][word] = tfidf_val\n",
    "        else:\n",
    "            word_tfidf[label] = {word: tfidf_val}\n",
    "\n",
    "sorted_words = {label:sorted(word_tfidf[label].items(), key=lambda x: x[1], reverse=True) for label in labels}\n",
    "\n",
    "n = 5\n",
    "for label in labels:\n",
    "    print(f\"\\nLabel: {label}\")\n",
    "    for word, tfidf_val in sorted_words[label][:n]:\n",
    "        print(f\"{word}: {tfidf_val}\")\n",
    "print(\"==========\")\n",
    "print(\"Confusion Matrix: \\n\")\n",
    "conf_matrix = confusion_matrix(y_test, y_pred, labels=ref_clf.classes_)\n",
    "disp = ConfusionMatrixDisplay(confusion_matrix=conf_matrix, display_labels=ref_clf.classes_)\n",
    "disp.plot()\n",
    "plt.show()\n"
   ]
  },
  {
   "cell_type": "code",
   "execution_count": 16,
   "id": "9a8de893",
   "metadata": {
    "scrolled": true
   },
   "outputs": [
    {
     "name": "stdout",
     "output_type": "stream",
     "text": [
      "2768    Canopy everything is going better  food drinks...\n",
      "374     Good services from the Manager Adli and also t...\n",
      "4293    Miss azuraAlam is good service for customers B...\n",
      "3139    We have been eating and drinking at Canopy dur...\n",
      "3161    Canopy is a lowest floor rooftop bar in Kuala ...\n",
      "                              ...                        \n",
      "934     Very excellent service by the staff Had aglio ...\n",
      "564     Had an wonderful dining experience at Chambers...\n",
      "1797    Excellent place to go for an English breakfast...\n",
      "5501    Although this is an OK restaurant when the cro...\n",
      "5090    Delicious food and best service especially sta...\n",
      "Name: Review, Length: 140, dtype: object\n",
      "Reference model tested on Indian dataset\n",
      "Accuracy: 0.00%\n",
      "Precision:  0.0\n",
      "Recall:  0.0\n",
      "fscore:  0.0\n",
      "==========\n",
      "Confusion Matrix: \n",
      "\n"
     ]
    },
    {
     "ename": "ValueError",
     "evalue": "At least one label specified must be in y_true",
     "output_type": "error",
     "traceback": [
      "\u001b[1;31m---------------------------------------------------------------------------\u001b[0m",
      "\u001b[1;31mValueError\u001b[0m                                Traceback (most recent call last)",
      "Input \u001b[1;32mIn [16]\u001b[0m, in \u001b[0;36m<cell line: 18>\u001b[1;34m()\u001b[0m\n\u001b[0;32m     16\u001b[0m \u001b[38;5;28mprint\u001b[39m(\u001b[38;5;124m\"\u001b[39m\u001b[38;5;124m==========\u001b[39m\u001b[38;5;124m\"\u001b[39m)\n\u001b[0;32m     17\u001b[0m \u001b[38;5;28mprint\u001b[39m(\u001b[38;5;124m\"\u001b[39m\u001b[38;5;124mConfusion Matrix: \u001b[39m\u001b[38;5;130;01m\\n\u001b[39;00m\u001b[38;5;124m\"\u001b[39m)\n\u001b[1;32m---> 18\u001b[0m conf_matrix \u001b[38;5;241m=\u001b[39m \u001b[43mconfusion_matrix\u001b[49m\u001b[43m(\u001b[49m\u001b[43mimport_indian_df_y\u001b[49m\u001b[43m,\u001b[49m\u001b[43m \u001b[49m\u001b[43my_pred2\u001b[49m\u001b[43m,\u001b[49m\u001b[43m \u001b[49m\u001b[43mlabels\u001b[49m\u001b[38;5;241;43m=\u001b[39;49m\u001b[43mref_clf\u001b[49m\u001b[38;5;241;43m.\u001b[39;49m\u001b[43mclasses_\u001b[49m\u001b[43m)\u001b[49m\n\u001b[0;32m     19\u001b[0m disp \u001b[38;5;241m=\u001b[39m ConfusionMatrixDisplay(confusion_matrix\u001b[38;5;241m=\u001b[39mconf_matrix, display_labels\u001b[38;5;241m=\u001b[39mref_clf\u001b[38;5;241m.\u001b[39mclasses_)\n\u001b[0;32m     20\u001b[0m disp\u001b[38;5;241m.\u001b[39mplot()\n",
      "File \u001b[1;32m~\\anaconda3\\lib\\site-packages\\sklearn\\metrics\\_classification.py:321\u001b[0m, in \u001b[0;36mconfusion_matrix\u001b[1;34m(y_true, y_pred, labels, sample_weight, normalize)\u001b[0m\n\u001b[0;32m    319\u001b[0m         \u001b[38;5;28;01mreturn\u001b[39;00m np\u001b[38;5;241m.\u001b[39mzeros((n_labels, n_labels), dtype\u001b[38;5;241m=\u001b[39m\u001b[38;5;28mint\u001b[39m)\n\u001b[0;32m    320\u001b[0m     \u001b[38;5;28;01melif\u001b[39;00m \u001b[38;5;28mlen\u001b[39m(np\u001b[38;5;241m.\u001b[39mintersect1d(y_true, labels)) \u001b[38;5;241m==\u001b[39m \u001b[38;5;241m0\u001b[39m:\n\u001b[1;32m--> 321\u001b[0m         \u001b[38;5;28;01mraise\u001b[39;00m \u001b[38;5;167;01mValueError\u001b[39;00m(\u001b[38;5;124m\"\u001b[39m\u001b[38;5;124mAt least one label specified must be in y_true\u001b[39m\u001b[38;5;124m\"\u001b[39m)\n\u001b[0;32m    323\u001b[0m \u001b[38;5;28;01mif\u001b[39;00m sample_weight \u001b[38;5;129;01mis\u001b[39;00m \u001b[38;5;28;01mNone\u001b[39;00m:\n\u001b[0;32m    324\u001b[0m     sample_weight \u001b[38;5;241m=\u001b[39m np\u001b[38;5;241m.\u001b[39mones(y_true\u001b[38;5;241m.\u001b[39mshape[\u001b[38;5;241m0\u001b[39m], dtype\u001b[38;5;241m=\u001b[39mnp\u001b[38;5;241m.\u001b[39mint64)\n",
      "\u001b[1;31mValueError\u001b[0m: At least one label specified must be in y_true"
     ]
    }
   ],
   "source": [
    "import_indian_df = export_malay_df\n",
    "import_indian_df = import_indian_df.sample(frac=0.2)\n",
    "import_indian_df_x = import_indian_df[\"Review\"]\n",
    "import_indian_df_y = import_indian_df[\"Rating\"]\n",
    "#label dataframe needs to match the \n",
    "test_indian_dfs_x=tfidf.transform(import_indian_df_x)\n",
    "y_pred2 = ref_clf.predict(test_indian_dfs_x)\n",
    "acc2 = accuracy_score(import_indian_df_y, y_pred2)\n",
    "print(import_indian_df_x)\n",
    "print(\"Reference model tested on Indian dataset\")\n",
    "print(\"Accuracy: {:.2f}%\".format(acc2 * 100))\n",
    "precision, recall, fscore, support = precision_recall_fscore_support(import_indian_df_y, y_pred2, zero_division=0, average=\"weighted\")\n",
    "print(\"Precision: \", precision)\n",
    "print(\"Recall: \", recall)\n",
    "print(\"fscore: \", fscore)\n",
    "print(\"==========\")\n",
    "print(\"Confusion Matrix: \\n\")\n",
    "conf_matrix = confusion_matrix(import_indian_df_y, y_pred2, labels=ref_clf.classes_)\n",
    "disp = ConfusionMatrixDisplay(confusion_matrix=conf_matrix, display_labels=ref_clf.classes_)\n",
    "disp.plot()\n",
    "plt.show()"
   ]
  },
  {
   "cell_type": "code",
   "execution_count": null,
   "id": "e1c12150",
   "metadata": {},
   "outputs": [],
   "source": [
    "#TEST TO SEE IF dialect identifier can tell where each comes from\n",
    "tfidf = TfidfVectorizer(stop_words='english', min_df=5, max_df=0.8, ngram_range=[1,3])\n",
    "dfs=dialect_dfs\n",
    "dfs_x = dfs[\"Document\"]\n",
    "dfs_y = dfs[\"Label\"]\n",
    "x_train, x_test, y_train, y_test = train_test_split(dfs_x, dfs_y, test_size=0.2, random_state=0)\n",
    "x_train = tfidf.fit_transform(x_train)\n",
    "x_test = tfidf.transform(x_test)\n",
    "dialect_clf = MultinomialNB()\n",
    "dialect_clf.fit(x_train, y_train)"
   ]
  },
  {
   "cell_type": "code",
   "execution_count": null,
   "id": "a6a01b64",
   "metadata": {},
   "outputs": [],
   "source": []
  },
  {
   "cell_type": "code",
   "execution_count": null,
   "id": "2b149f5d",
   "metadata": {
    "scrolled": true
   },
   "outputs": [],
   "source": [
    "sa_combined_df_x = sa_combined_df[\"Review\"]\n",
    "sa_combined_df_y = sa_combined_df[\"Rating\"]\n",
    "x_test = tfidf.transform(sa_combined_df_x)\n",
    "y_pred = dialect_clf.predict(x_test)\n",
    "acc = accuracy_score(sa_combined_df_y, y_pred)\n",
    "print(\"Dialect identificaton model tested SA datasets\")\n",
    "tfidf_values = x_train.toarray()\n",
    "print(np.mean(tfidf_values))\n",
    "print(\"Accuracy: {:.2f}%\".format(acc * 100))\n",
    "precision, recall, fscore, support = precision_recall_fscore_support(sa_combined_df_y, y_pred, zero_division=0, average=\"macro\")\n",
    "print(\"Precision: \", (precision))\n",
    "print(\"Recall: \", (recall))\n",
    "print(\"fscore: \", (fscore))\n",
    "print(\"==========\")\n",
    "print(\"Confusion Matrix: \\n\")\n",
    "conf_matrix = confusion_matrix(sa_combined_df_y, y_pred, labels=dialect_clf.classes_)\n",
    "disp = ConfusionMatrixDisplay(confusion_matrix=conf_matrix, display_labels=dialect_clf.classes_)\n",
    "disp.plot()\n",
    "plt.show()"
   ]
  },
  {
   "cell_type": "code",
   "execution_count": null,
   "id": "ac1beeef",
   "metadata": {},
   "outputs": [],
   "source": []
  },
  {
   "cell_type": "code",
   "execution_count": null,
   "id": "ab2b170a",
   "metadata": {},
   "outputs": [],
   "source": []
  },
  {
   "cell_type": "code",
   "execution_count": null,
   "id": "7e0fdd98",
   "metadata": {},
   "outputs": [],
   "source": []
  },
  {
   "cell_type": "code",
   "execution_count": null,
   "id": "d996d45f",
   "metadata": {},
   "outputs": [],
   "source": []
  }
 ],
 "metadata": {
  "kernelspec": {
   "display_name": "Python 3 (ipykernel)",
   "language": "python",
   "name": "python3"
  },
  "language_info": {
   "codemirror_mode": {
    "name": "ipython",
    "version": 3
   },
   "file_extension": ".py",
   "mimetype": "text/x-python",
   "name": "python",
   "nbconvert_exporter": "python",
   "pygments_lexer": "ipython3",
   "version": "3.9.12"
  }
 },
 "nbformat": 4,
 "nbformat_minor": 5
}
