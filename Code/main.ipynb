{
 "cells": [
  {
   "cell_type": "code",
   "execution_count": 38,
   "id": "80393b66",
   "metadata": {},
   "outputs": [],
   "source": [
    "import pandas as pd\n",
    "import numpy as np\n",
    "from io import StringIO\n",
    "#Machine learning\n",
    "from sklearn.feature_extraction.text import CountVectorizer\n",
    "from sklearn.model_selection import train_test_split\n",
    "from sklearn.naive_bayes import MultinomialNB\n",
    "from sklearn.feature_extraction.text import TfidfVectorizer\n",
    "from sklearn.svm import SVC\n",
    "from sklearn.ensemble import RandomForestClassifier\n",
    "#Metrics\n",
    "from sklearn.metrics import accuracy_score\n",
    "from sklearn.metrics import confusion_matrix\n",
    "from sklearn.metrics import ConfusionMatrixDisplay\n",
    "import matplotlib.pyplot as plt"
   ]
  },
  {
   "cell_type": "code",
   "execution_count": 4,
   "id": "b299335a",
   "metadata": {},
   "outputs": [],
   "source": [
    "#Indian Corpus\n",
    "count = [100, 80, 70, 50]\n",
    "prefix = [\"S1A\", \"S1B\", \"S2A\", \"S2B\"]\n",
    "comb=''\n",
    "counter=0\n",
    "for i in range(0, 4):\n",
    "    end=count[i]+1\n",
    "    active_prefix = prefix[i]\n",
    "    for i in range(1, end):\n",
    "        index_padded = str(i).zfill(3)\n",
    "        filepath = \"..\\Corpora\\ICE INDIA\\Corpus\\{0}-{1}.txt\".format(active_prefix, index_padded)\n",
    "        temp_df = pd.read_csv(filepath, sep=\"<$A>|<$B>\", engine='python', encoding='ISO-8859-1')\n",
    "        temp_df = temp_df.replace(to_replace=r'<[^<>]*>', value='', regex=True)\n",
    "        temp_df = temp_df.apply(lambda temp_df: temp_df.str.lower())\n",
    "        temp_df = temp_df.apply(lambda x: ' '.join(x.astype(str)), axis=1)\n",
    "        temp_df = temp_df.replace(\"\", np.nan)\n",
    "        temp_df = temp_df.replace(\"\\s+\", \" \", regex=True).dropna()\n",
    "        comb = ' '.join(temp_df)\n",
    "        comb_filepath = \"..\\CleanCorpora\\India\\_IndiaCorporaCombined{0}.txt\".format(counter)\n",
    "        with open(comb_filepath, 'w',encoding='UTF-8') as f:\n",
    "            f.write(comb)\n",
    "        counter+=1\n",
    "#combDF = pd.DataFrame(eval(comb))\n",
    "\n",
    "\n",
    "#combDF.to_csv(comb_filepath, sep='\\t', index=False)"
   ]
  },
  {
   "cell_type": "code",
   "execution_count": 5,
   "id": "1328b1cf",
   "metadata": {},
   "outputs": [
    {
     "name": "stdout",
     "output_type": "stream",
     "text": [
      "   Label                                           Document\n",
      "0  India  may i know your good name my name is mrs lalit...\n",
      "1  India  uh okay let us continue yeah i am uh subramani...\n",
      "2  India  hello we'll arrange a party  yes on the fifth ...\n",
      "3  India  uhm hello ashokji i'm nice here because i'm  h...\n",
      "4  India  uh hello basu  how are you uhm hello  chakrabo...\n"
     ]
    }
   ],
   "source": [
    "dfs = []\n",
    "for i in range(300):\n",
    "    #df = pd.read_csv(\"..\\CleanCorpora\\India\\_IndianCorporaCombined{0}.txt\".format(i), sep=\"\\t\", engine=\"python\", encoding=\"UTF-8\")\n",
    "    with open(\"..\\CleanCorpora\\India\\_IndiaCorporaCombined{0}.txt\".format(i), \"r\", encoding='UTF-8') as file:\n",
    "        text = file.read()\n",
    "    df = pd.DataFrame({\"Label\": \"India\", \"Document\": [text]})\n",
    "    dfs.append(df)\n",
    "    #combdf = pd.concat([combdf, df], ignore_index=True)\n",
    "comb = pd.concat(dfs, ignore_index=True)\n",
    "print(comb.head())\n",
    "comb.to_csv(\"..\\CleanCorpora\\India\\__FULLIndiaCorporaCombined.txt\", sep='\\t', index=False, header=False)\n",
    "India=comb\n",
    "    #with open(\"..\\CleanCorpora\\_IndianCorporaCombined{0}.txt\".format(i), \"r\", encoding='UTF-8') as file:\n",
    "        #text = file.read()"
   ]
  },
  {
   "cell_type": "code",
   "execution_count": 6,
   "id": "736eb501",
   "metadata": {},
   "outputs": [],
   "source": [
    "#HongKong Corpus\n",
    "count = [100, 80, 70, 50]\n",
    "prefix = [\"S1A\", \"S1B\", \"S2A\", \"S2B\"]\n",
    "comb=''\n",
    "counter=0\n",
    "for i in range(0, 4):\n",
    "    end=count[i]+1\n",
    "    active_prefix = prefix[i]\n",
    "    for i in range(1, end):\n",
    "        index_padded = str(i).zfill(3)\n",
    "        filepath = \"..\\Corpora\\ICE HongKong\\Corpus\\{0}-{1}.txt\".format(active_prefix, index_padded)\n",
    "        temp_df = pd.read_csv(filepath, sep=\"<$A>|<$B>\", engine='python', encoding='ISO-8859-1')\n",
    "        temp_df = temp_df.replace(to_replace=r'<[^<>]*>', value='', regex=True)\n",
    "        temp_df = temp_df.apply(lambda temp_df: temp_df.str.lower())\n",
    "        temp_df = temp_df.apply(lambda x: ' '.join(x.astype(str)), axis=1)\n",
    "        temp_df = temp_df.replace(\"\", np.nan)\n",
    "        temp_df = temp_df.replace(\"\\s+\", \" \", regex=True).dropna()\n",
    "        comb = ' '.join(temp_df)\n",
    "        comb_filepath = \"..\\CleanCorpora\\HongKong\\_HongKongCorporaCombined{0}.txt\".format(counter)\n",
    "        with open(comb_filepath, 'w',encoding='UTF-8') as f:\n",
    "            f.write(comb)\n",
    "        counter+=1\n",
    "#combDF = pd.DataFrame(eval(comb))\n",
    "\n",
    "\n",
    "#combDF.to_csv(comb_filepath, sep='\\t', index=False)"
   ]
  },
  {
   "cell_type": "code",
   "execution_count": 7,
   "id": "215d32d2",
   "metadata": {},
   "outputs": [
    {
     "name": "stdout",
     "output_type": "stream",
     "text": [
      "      Label                                           Document\n",
      "0  HongKong  yeah   first of all uhm this isn't the best wa...\n",
      "1  HongKong  uhm so you want to go to beijing this summer u...\n",
      "2  HongKong  uhm what about you can you introduce yourself ...\n",
      "3  HongKong  uhm anything you ' re particularly interested ...\n",
      "4  HongKong  uh no no no no i i i think uhm even i don't at...\n"
     ]
    }
   ],
   "source": [
    "dfs = []\n",
    "for i in range(300):\n",
    "    with open(\"..\\CleanCorpora\\HongKong\\_HongKongCorporaCombined{0}.txt\".format(i), \"r\", encoding='UTF-8') as file:\n",
    "        text = file.read()\n",
    "    df = pd.DataFrame({\"Label\": \"HongKong\", \"Document\": [text]})\n",
    "    dfs.append(df)\n",
    "    #combdf = pd.concat([combdf, df], ignore_index=True)\n",
    "comb = pd.concat(dfs, ignore_index=True)\n",
    "print(comb.head())\n",
    "comb.to_csv(\"..\\CleanCorpora\\HongKong\\__FULLHongKongCorporaCombined.txt\", sep='\\t', index=False, header=False)\n",
    "HongKong=comb"
   ]
  },
  {
   "cell_type": "code",
   "execution_count": 8,
   "id": "2d3ba2ef",
   "metadata": {},
   "outputs": [],
   "source": [
    "#Philippines Corpus\n",
    "count = [100, 80, 70, 50]\n",
    "prefix = [\"S1A\", \"S1B\", \"S2A\", \"S2B\"]\n",
    "comb=''\n",
    "counter=0\n",
    "for i in range(0, 4):\n",
    "    end=count[i]+1\n",
    "    active_prefix = prefix[i]\n",
    "    for i in range(1, end):\n",
    "        index_padded = str(i).zfill(3)\n",
    "        filepath = \"..\\Corpora\\ICE Philippines\\Corpus\\{0}-{1}.txt\".format(active_prefix, index_padded)\n",
    "        temp_df = pd.read_csv(filepath, sep=\"<$A>|<$B>\", engine='python', encoding='ISO-8859-1')\n",
    "        temp_df = temp_df.replace(to_replace=r'<[^<>]*>', value='', regex=True)\n",
    "        temp_df = temp_df.apply(lambda temp_df: temp_df.str.lower())\n",
    "        temp_df = temp_df.apply(lambda x: ' '.join(x.astype(str)), axis=1)\n",
    "        temp_df = temp_df.replace(\"\", np.nan)\n",
    "        temp_df = temp_df.replace(\"\\s+\", \" \", regex=True).dropna()\n",
    "        comb = ' '.join(temp_df)\n",
    "        comb_filepath = \"..\\CleanCorpora\\Philippines\\_PhilippinesCorporaCombined{0}.txt\".format(counter)\n",
    "        with open(comb_filepath, 'w',encoding='UTF-8') as f:\n",
    "            f.write(comb)\n",
    "        counter+=1\n",
    "#combDF = pd.DataFrame(eval(comb))\n",
    "\n",
    "\n",
    "#combDF.to_csv(comb_filepath, sep='\\t', index=False)"
   ]
  },
  {
   "cell_type": "code",
   "execution_count": 9,
   "id": "46a219a8",
   "metadata": {},
   "outputs": [
    {
     "name": "stdout",
     "output_type": "stream",
     "text": [
      "         Label                                           Document\n",
      "0  Philippines  oh so how are you how 's life uh it 's fine ra...\n",
      "1  Philippines  i 'm leaving next next next monday it 's on th...\n",
      "2  Philippines  how many books are you writing sir brother and...\n",
      "3  Philippines  you 're in white you 're so pure and virginal ...\n",
      "4  Philippines  so we 'd like to have a brief account of your ...\n"
     ]
    }
   ],
   "source": [
    "dfs = []\n",
    "for i in range(300):\n",
    "    with open(\"..\\CleanCorpora\\Philippines\\_PhilippinesCorporaCombined{0}.txt\".format(i), \"r\", encoding='UTF-8') as file:\n",
    "        text = file.read()\n",
    "    df = pd.DataFrame({\"Label\": \"Philippines\", \"Document\": [text]})\n",
    "    dfs.append(df)\n",
    "    #combdf = pd.concat([combdf, df], ignore_index=True)\n",
    "comb = pd.concat(dfs, ignore_index=True)\n",
    "print(comb.head())\n",
    "comb.to_csv(\"..\\CleanCorpora\\Philippines\\__FULLPhilippinesCorporaCombined.txt\", sep='\\t', index=False, header=False)\n",
    "Philippines=comb"
   ]
  },
  {
   "cell_type": "code",
   "execution_count": 10,
   "id": "2d4000d3",
   "metadata": {},
   "outputs": [],
   "source": [
    "#Singapore Corpus\n",
    "count = [100, 80, 70, 50]\n",
    "prefix = [\"S1A\", \"S1B\", \"S2A\", \"S2B\"]\n",
    "comb=''\n",
    "counter=0\n",
    "for i in range(0, 4):\n",
    "    end=count[i]+1\n",
    "    active_prefix = prefix[i]\n",
    "    for i in range(1, end):\n",
    "        index_padded = str(i).zfill(3)\n",
    "        filepath = \"..\\Corpora\\ICE Singapore\\Corpus\\{0}-{1}.txt\".format(active_prefix, index_padded)\n",
    "        temp_df = pd.read_csv(filepath, sep=\"<$A>|<$B>\", engine='python', encoding='ISO-8859-1')\n",
    "        temp_df = temp_df.replace(to_replace=r'<[^<>]*>', value='', regex=True)\n",
    "        temp_df = temp_df.apply(lambda temp_df: temp_df.str.lower())\n",
    "        temp_df = temp_df.apply(lambda x: ' '.join(x.astype(str)), axis=1)\n",
    "        temp_df = temp_df.replace(\"\", np.nan)\n",
    "        temp_df = temp_df.replace(\"\\s+\", \" \", regex=True).dropna()\n",
    "        comb = ' '.join(temp_df)\n",
    "        comb_filepath = \"..\\CleanCorpora\\Singapore\\_SingaporeCorporaCombined{0}.txt\".format(counter)\n",
    "        with open(comb_filepath, 'w',encoding='UTF-8') as f:\n",
    "            f.write(comb)\n",
    "        counter+=1\n",
    "#combDF = pd.DataFrame(eval(comb))\n",
    "\n",
    "\n",
    "#combDF.to_csv(comb_filepath, sep='\\t', index=False)"
   ]
  },
  {
   "cell_type": "code",
   "execution_count": 11,
   "id": "ee6f0b2f",
   "metadata": {},
   "outputs": [
    {
     "name": "stdout",
     "output_type": "stream",
     "text": [
      "       Label                                           Document\n",
      "0  Singapore  is that that's not enough for you ah thirsty i...\n",
      "1  Singapore  on her own uhm i think so because she's stayin...\n",
      "2  Singapore  i believe i just had one okay how about yours ...\n",
      "3  Singapore  why did they revert back to the end of year ex...\n",
      "4  Singapore   29 december 1991  feel like counting used to ...\n"
     ]
    }
   ],
   "source": [
    "dfs = []\n",
    "for i in range(300):\n",
    "    with open(\"..\\CleanCorpora\\Singapore\\_SingaporeCorporaCombined{0}.txt\".format(i), \"r\", encoding='UTF-8') as file:\n",
    "        text = file.read()\n",
    "    df = pd.DataFrame({\"Label\": \"Singapore\", \"Document\": [text]})\n",
    "    dfs.append(df)\n",
    "    #combdf = pd.concat([combdf, df], ignore_index=True)\n",
    "comb = pd.concat(dfs, ignore_index=True)\n",
    "print(comb.head())\n",
    "comb.to_csv(\"..\\CleanCorpora\\Singapore\\__FULLSingaporeCorporaCombined.txt\", sep='\\t', index=False, header=False)\n",
    "Singapore=comb"
   ]
  },
  {
   "cell_type": "code",
   "execution_count": 12,
   "id": "92be0e15",
   "metadata": {},
   "outputs": [],
   "source": [
    "#Concatenate all 4 dialects\n",
    "dfs = pd.concat([India, HongKong, Philippines, Singapore], ignore_index=True)\n",
    "dfs.shape\n",
    "dfs.to_csv(\"..\\CleanCorpora\\Combined\\Combined.txt\", sep='\\t', index=False, header=False)"
   ]
  },
  {
   "cell_type": "code",
   "execution_count": 52,
   "id": "a6346cb2",
   "metadata": {},
   "outputs": [],
   "source": [
    "tfidf = TfidfVectorizer(stop_words='english', min_df=5, max_df=0.8, ngram_range=[1,3])\n",
    "dfs_x = dfs[\"Document\"]\n",
    "dfs_y = dfs[\"Label\"]\n",
    "x_train, x_test, y_train, y_test = train_test_split(dfs_x, dfs_y, test_size=0.2, random_state=4)\n",
    "x_train = tfidf.fit_transform(x_train)\n",
    "x_test = tfidf.transform(x_test)\n",
    "#NaiveBayes\n",
    "#clf = MultinomialNB()\n",
    "#SVM\n",
    "#clf = SVC(kernel=\"rbf\")\n",
    "clf = RandomForestClassifier()\n",
    "clf.fit(x_train, y_train)\n",
    "y_pred = clf.predict(x_test)\n"
   ]
  },
  {
   "cell_type": "code",
   "execution_count": 53,
   "id": "68481028",
   "metadata": {},
   "outputs": [
    {
     "name": "stdout",
     "output_type": "stream",
     "text": [
      "Accuracy: 95.42%\n",
      "==========\n",
      "Feature Importance:\n",
      "\n",
      "Label: India\n",
      "luxury: 0.43367143891835513\n",
      "product: 0.22142209769457122\n",
      "okay: 0.17959197530875362\n",
      "china: 0.17279537914213763\n",
      "curve: 0.13931580575675775\n",
      "escalating: 0.1216824530641769\n",
      "bike: 0.11859542716912404\n",
      "consumers: 0.11637872546085666\n",
      "chinese: 0.11475040977963787\n",
      "engineering: 0.11285970342559495\n",
      "\n",
      "Label: HongKong\n",
      "gong: 0.539798594652329\n",
      "hong kong: 0.25480877710638683\n",
      "kong: 0.24964885702732936\n",
      "hong: 0.24674947564001543\n",
      "uhm: 0.21970129149765838\n",
      "raymond: 0.15522333396660068\n",
      "martin: 0.14382520718446484\n",
      "uh uh uh: 0.12919700040157572\n",
      "uhm uhm: 0.1271609747583714\n",
      "uh uh: 0.12523611809225135\n",
      "\n",
      "Label: Philippines\n",
      "diploma: 0.22093117241414384\n",
      "ph: 0.21412086654336068\n",
      "phil: 0.19861741816825826\n",
      "infact: 0.19292318595600988\n",
      "english: 0.179614519001994\n",
      "college: 0.15899678108435641\n",
      "uhm: 0.14724868411792255\n",
      "yeah: 0.1412880204770134\n",
      "degree: 0.1333920597411415\n",
      "nineteen eighty: 0.1194090695252649\n",
      "\n",
      "Label: Singapore\n",
      "museum: 0.598943615266483\n",
      "museums: 0.27388082982442075\n",
      "donations: 0.18589439583290915\n",
      "collections: 0.13234785855459558\n",
      "collectors: 0.12133300162742014\n",
      "french: 0.1115240623195516\n",
      "israel: 0.10981997638738528\n",
      "national: 0.10487474660817736\n",
      "minister: 0.09810704135070526\n",
      "precinct: 0.09487773681367127\n",
      "==========\n",
      "Confusion Matrix: \n",
      "\n"
     ]
    },
    {
     "data": {
      "image/png": "[encoded data removed]",
      "text/plain": [
       "<Figure size 432x288 with 2 Axes>"
      ]
     },
     "metadata": {
      "needs_background": "light"
     },
     "output_type": "display_data"
    }
   ],
   "source": [
    "#Accuracy, Feature importance, and Confusion Matrix\n",
    "acc = accuracy_score(y_test, y_pred)\n",
    "print(\"Accuracy: {:.2f}%\".format(acc * 100))\n",
    "print(\"==========\")\n",
    "print(\"Feature Importance:\")\n",
    "labels = [\"India\", \"HongKong\", \"Philippines\", \"Singapore\"]\n",
    "tfidf_values = x_train.toarray()\n",
    "feature_names = tfidf.get_feature_names_out()\n",
    "word_tfidf = {}\n",
    "for i, label in enumerate(labels):\n",
    "    for word, tfidf_val in zip(feature_names, tfidf_values[i]):\n",
    "        if label in word_tfidf:\n",
    "            word_tfidf[label][word] = tfidf_val\n",
    "        else:\n",
    "            word_tfidf[label] = {word: tfidf_val}\n",
    "\n",
    "# Sort the dictionary by tf-idf values in descending order\n",
    "sorted_words = {label:sorted(word_tfidf[label].items(), key=lambda x: x[1], reverse=True) for label in labels}\n",
    "\n",
    "# Print the top n words with the highest tf-idf values for each class\n",
    "n = 10\n",
    "for label in labels:\n",
    "    print(f\"\\nLabel: {label}\")\n",
    "    for word, tfidf_val in sorted_words[label][:n]:\n",
    "        print(f\"{word}: {tfidf_val}\")\n",
    "print(\"==========\")\n",
    "print(\"Confusion Matrix: \\n\")\n",
    "conf_matrix = confusion_matrix(y_test, y_pred, labels=clf.classes_)\n",
    "disp = ConfusionMatrixDisplay(confusion_matrix=conf_matrix, display_labels=clf.classes_)\n",
    "disp.plot()\n",
    "plt.show()"
   ]
  },
  {
   "cell_type": "code",
   "execution_count": 18,
   "id": "bd3239fb",
   "metadata": {},
   "outputs": [
    {
     "data": {
      "text/plain": [
       "(4, 4)"
      ]
     },
     "execution_count": 18,
     "metadata": {},
     "output_type": "execute_result"
    }
   ],
   "source": [
    "conf_matrix.shape"
   ]
  },
  {
   "cell_type": "code",
   "execution_count": null,
   "id": "2e266057",
   "metadata": {},
   "outputs": [],
   "source": []
  }
 ],
 "metadata": {
  "kernelspec": {
   "display_name": "Python 3 (ipykernel)",
   "language": "python",
   "name": "python3"
  },
  "language_info": {
   "codemirror_mode": {
    "name": "ipython",
    "version": 3
   },
   "file_extension": ".py",
   "mimetype": "text/x-python",
   "name": "python",
   "nbconvert_exporter": "python",
   "pygments_lexer": "ipython3",
   "version": "3.9.12"
  }
 },
 "nbformat": 4,
 "nbformat_minor": 5
}
