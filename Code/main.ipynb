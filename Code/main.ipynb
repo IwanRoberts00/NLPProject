{
 "cells": [
  {
   "cell_type": "code",
   "execution_count": 18,
   "id": "80393b66",
   "metadata": {},
   "outputs": [],
   "source": [
    "import pandas as pd\n",
    "import numpy as np"
   ]
  },
  {
   "cell_type": "code",
   "execution_count": 3,
   "id": "fc34d995",
   "metadata": {},
   "outputs": [],
   "source": [
    "df = pd.read_csv(\"..\\Corpora\\ICE INDIA\\Corpus\\S1a-001.txt\", sep=\"<$A>|<$B>\", engine='python')\n"
   ]
  },
  {
   "cell_type": "code",
   "execution_count": 4,
   "id": "47897384",
   "metadata": {},
   "outputs": [
    {
     "name": "stdout",
     "output_type": "stream",
     "text": [
      "                           <I>\n",
      "0                         <$A>\n",
      "1      <ICE-IND:S1A-001#1:1:A>\n",
      "2    May I know your good name\n",
      "3                         <$B>\n",
      "4      <ICE-IND:S1A-001#2:1:B>\n",
      "..                         ...\n",
      "711  <ICE-IND:S1A-001#246:1:B>\n",
      "712              Thank you <,>\n",
      "713                       <$A>\n",
      "714  <ICE-IND:S1A-001#247:1:A>\n",
      "715   Thank you very much </I>\n",
      "\n",
      "[716 rows x 1 columns]\n"
     ]
    }
   ],
   "source": [
    "print(df)"
   ]
  },
  {
   "cell_type": "code",
   "execution_count": 5,
   "id": "e5be1ad1",
   "metadata": {},
   "outputs": [
    {
     "name": "stdout",
     "output_type": "stream",
     "text": [
      "                           <I>\n",
      "0                             \n",
      "1                             \n",
      "2    May I know your good name\n",
      "3                             \n",
      "4                             \n",
      "..                         ...\n",
      "711                           \n",
      "712                 Thank you \n",
      "713                           \n",
      "714                           \n",
      "715       Thank you very much \n",
      "\n",
      "[716 rows x 1 columns]\n"
     ]
    }
   ],
   "source": [
    "df = df.replace(to_replace=r'<.*>', value='', regex=True)\n",
    "print(df)"
   ]
  },
  {
   "cell_type": "code",
   "execution_count": 6,
   "id": "f52f11c9",
   "metadata": {},
   "outputs": [
    {
     "ename": "NameError",
     "evalue": "name 'numbers' is not defined",
     "output_type": "error",
     "traceback": [
      "\u001b[1;31m---------------------------------------------------------------------------\u001b[0m",
      "\u001b[1;31mNameError\u001b[0m                                 Traceback (most recent call last)",
      "\u001b[1;32m~\\AppData\\Local\\Temp\\ipykernel_12716\\4249776627.py\u001b[0m in \u001b[0;36m<module>\u001b[1;34m\u001b[0m\n\u001b[1;32m----> 1\u001b[1;33m \u001b[0mpadded_numbers\u001b[0m \u001b[1;33m=\u001b[0m \u001b[1;33m[\u001b[0m\u001b[0mnumber\u001b[0m\u001b[1;33m.\u001b[0m\u001b[0mzfill\u001b[0m\u001b[1;33m(\u001b[0m\u001b[1;36m3\u001b[0m\u001b[1;33m)\u001b[0m \u001b[1;32mfor\u001b[0m \u001b[0mnumber\u001b[0m \u001b[1;32min\u001b[0m \u001b[0mnumbers\u001b[0m\u001b[1;33m]\u001b[0m\u001b[1;33m\u001b[0m\u001b[1;33m\u001b[0m\u001b[0m\n\u001b[0m\u001b[0;32m      2\u001b[0m \u001b[0mprint\u001b[0m\u001b[1;33m(\u001b[0m\u001b[0mpadd_numbers\u001b[0m\u001b[1;33m)\u001b[0m\u001b[1;33m\u001b[0m\u001b[1;33m\u001b[0m\u001b[0m\n",
      "\u001b[1;31mNameError\u001b[0m: name 'numbers' is not defined"
     ]
    }
   ],
   "source": [
    "padded_numbers = [number.zfill(3) for number in numbers]\n",
    "print(padd_numbers)"
   ]
  },
  {
   "cell_type": "code",
   "execution_count": 7,
   "id": "607cb85c",
   "metadata": {},
   "outputs": [],
   "source": [
    "\n",
    "count = [100, 80, 70, 50]\n",
    "prefix = [\"S1A\", \"S1B\", \"S2A\", \"S2B\"]\n",
    "for i in range(0, 4):\n",
    "    end=count[i]+1\n",
    "    active_prefix = prefix[i]\n",
    "    for i in range(1, end):\n",
    "        combined_string=''\n",
    "        index_padded = str(i).zfill(3)\n",
    "        filepath = \"..\\Corpora\\ICE INDIA\\Corpus\\{0}-{1}.txt\".format(active_prefix, index_padded)\n",
    "        temp_df = pd.read_csv(filepath, sep=\"<$A>|<$B>\", engine='python', encoding='ISO-8859-1')\n",
    "        temp_df = temp_df.replace(to_replace=\"\\[[^\\[\\]]*\\]\", value='', regex=True)\n",
    "        #combined_string = ' '.join(temp_df.apply(lambda x: ' '.join(x), axis=1))\n",
    "        new_filepath = \"..\\CleanCorpora\\{0}-{1}.txt\".format(active_prefix, index_padded)\n",
    "        temp_df.to_csv(new_filepath, sep='\\t', index=False)\n",
    "        \n",
    "        \n",
    "#print(combined_string)\n",
    "    "
   ]
  },
  {
   "cell_type": "code",
   "execution_count": 26,
   "id": "b299335a",
   "metadata": {},
   "outputs": [],
   "source": [
    "count = [100, 80, 70, 50]\n",
    "prefix = [\"S1A\", \"S1B\", \"S2A\", \"S2B\"]\n",
    "for i in range(0, 4):\n",
    "    end=count[i]+1\n",
    "    active_prefix = prefix[i]\n",
    "    for i in range(1, end):\n",
    "        index_padded = str(i).zfill(3)\n",
    "        filepath = \"..\\Corpora\\ICE INDIA\\Corpus\\{0}-{1}.txt\".format(active_prefix, index_padded)\n",
    "        temp_df = pd.read_csv(filepath, sep=\"<$A>|<$B>\", engine='python', encoding='ISO-8859-1')\n",
    "        temp_df = temp_df.replace(to_replace=r'<[^<>]*>', value='', regex=True)\n",
    "        temp_df = temp_df.replace(\"\", np.nan).dropna()\n",
    "        temp_df = temp_df.replace(\"\\s+\", \" \", regex=True)\n",
    "        new_filepath = \"..\\CleanCorpora\\{0}-{1}.txt\".format(active_prefix, index_padded)\n",
    "        temp_df.to_csv(new_filepath, sep='\\t', index=False)"
   ]
  },
  {
   "cell_type": "code",
   "execution_count": 7,
   "id": "8857222a",
   "metadata": {},
   "outputs": [
    {
     "data": {
      "text/plain": [
       "['S1A', 'S1B', 'S2A', 'S2B']"
      ]
     },
     "execution_count": 7,
     "metadata": {},
     "output_type": "execute_result"
    }
   ],
   "source": []
  },
  {
   "cell_type": "code",
   "execution_count": null,
   "id": "77ae13c1",
   "metadata": {},
   "outputs": [],
   "source": []
  }
 ],
 "metadata": {
  "kernelspec": {
   "display_name": "Python 3 (ipykernel)",
   "language": "python",
   "name": "python3"
  },
  "language_info": {
   "codemirror_mode": {
    "name": "ipython",
    "version": 3
   },
   "file_extension": ".py",
   "mimetype": "text/x-python",
   "name": "python",
   "nbconvert_exporter": "python",
   "pygments_lexer": "ipython3",
   "version": "3.9.13"
  }
 },
 "nbformat": 4,
 "nbformat_minor": 5
}
