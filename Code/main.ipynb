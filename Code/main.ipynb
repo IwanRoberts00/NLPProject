{
 "cells": [
  {
   "cell_type": "code",
   "execution_count": 1,
   "id": "80393b66",
   "metadata": {},
   "outputs": [],
   "source": [
    "import pandas as pd\n",
    "import numpy as np\n",
    "from io import StringIO"
   ]
  },
  {
   "cell_type": "code",
   "execution_count": 74,
   "id": "b299335a",
   "metadata": {},
   "outputs": [],
   "source": [
    "#Indian Corpus\n",
    "count = [100, 80, 70, 50]\n",
    "prefix = [\"S1A\", \"S1B\", \"S2A\", \"S2B\"]\n",
    "comb=''\n",
    "counter=0\n",
    "for i in range(0, 4):\n",
    "    end=count[i]+1\n",
    "    active_prefix = prefix[i]\n",
    "    for i in range(1, end):\n",
    "        index_padded = str(i).zfill(3)\n",
    "        filepath = \"..\\Corpora\\ICE INDIA\\Corpus\\{0}-{1}.txt\".format(active_prefix, index_padded)\n",
    "        temp_df = pd.read_csv(filepath, sep=\"<$A>|<$B>\", engine='python', encoding='ISO-8859-1')\n",
    "        temp_df = temp_df.replace(to_replace=r'<[^<>]*>', value='', regex=True)\n",
    "        temp_df = temp_df.apply(lambda temp_df: temp_df.str.lower())\n",
    "        #comb = comb.append(temp_df)\n",
    "        new_filepath = \"..\\CleanCorpora\\India\\{0}-{1}.txt\".format(active_prefix, index_padded)\n",
    "        temp_df.to_csv(new_filepath, sep='\\t', index=False, header=False)\n",
    "        temp_df = temp_df.apply(lambda x: ' '.join(x.astype(str)), axis=1)\n",
    "        temp_df = temp_df.replace(\"\", np.nan)\n",
    "        temp_df = temp_df.replace(\"\\s+\", \" \", regex=True).dropna()\n",
    "        comb = ' '.join(temp_df)\n",
    "        comb_filepath = \"..\\CleanCorpora\\India\\_IndiaCorporaCombined{0}.txt\".format(counter)\n",
    "        with open(comb_filepath, 'w',encoding='UTF-8') as f:\n",
    "            f.write(comb)\n",
    "        counter+=1\n",
    "#combDF = pd.DataFrame(eval(comb))\n",
    "\n",
    "\n",
    "#combDF.to_csv(comb_filepath, sep='\\t', index=False)"
   ]
  },
  {
   "cell_type": "code",
   "execution_count": 106,
   "id": "4495f40d",
   "metadata": {},
   "outputs": [
    {
     "name": "stdout",
     "output_type": "stream",
     "text": [
      "   Label                                           Document\n",
      "0  India  may i know your good name my name is mrs lalit...\n",
      "1  India  uh okay let us continue yeah i am uh subramani...\n",
      "2  India  hello we'll arrange a party  yes on the fifth ...\n",
      "3  India  uhm hello ashokji i'm nice here because i'm  h...\n",
      "4  India  uh hello basu  how are you uhm hello  chakrabo...\n"
     ]
    }
   ],
   "source": [
    "dfs = []\n",
    "for i in range(300):\n",
    "    #df = pd.read_csv(\"..\\CleanCorpora\\India\\_IndianCorporaCombined{0}.txt\".format(i), sep=\"\\t\", engine=\"python\", encoding=\"UTF-8\")\n",
    "    with open(\"..\\CleanCorpora\\India\\_IndiaCorporaCombined{0}.txt\".format(i), \"r\", encoding='UTF-8') as file:\n",
    "        text = file.read()\n",
    "    df = pd.DataFrame({\"Label\": \"India\", \"Document\": [text]})\n",
    "    dfs.append(df)\n",
    "    #combdf = pd.concat([combdf, df], ignore_index=True)\n",
    "comb = pd.concat(dfs, ignore_index=True)\n",
    "print(comb.head())\n",
    "comb.to_csv(\"..\\CleanCorpora\\India\\__FULLIndiaCorporaCombined.txt\", sep='\\t', index=False, header=False)\n",
    "India=comb\n",
    "    #with open(\"..\\CleanCorpora\\_IndianCorporaCombined{0}.txt\".format(i), \"r\", encoding='UTF-8') as file:\n",
    "        #text = file.read()"
   ]
  },
  {
   "cell_type": "code",
   "execution_count": 61,
   "id": "736eb501",
   "metadata": {},
   "outputs": [],
   "source": [
    "#HongKong Corpus\n",
    "count = [100, 80, 70, 50]\n",
    "prefix = [\"S1A\", \"S1B\", \"S2A\", \"S2B\"]\n",
    "comb=''\n",
    "counter=0\n",
    "for i in range(0, 4):\n",
    "    end=count[i]+1\n",
    "    active_prefix = prefix[i]\n",
    "    for i in range(1, end):\n",
    "        index_padded = str(i).zfill(3)\n",
    "        filepath = \"..\\Corpora\\ICE-HK\\Corpus\\{0}-{1}.txt\".format(active_prefix, index_padded)\n",
    "        temp_df = pd.read_csv(filepath, sep=\"<$A>|<$B>\", engine='python', encoding='ISO-8859-1')\n",
    "        temp_df = temp_df.replace(to_replace=r'<[^<>]*>', value='', regex=True)\n",
    "        temp_df = temp_df.apply(lambda temp_df: temp_df.str.lower())\n",
    "        #comb = comb.append(temp_df)\n",
    "        new_filepath = \"..\\CleanCorpora\\HongKong\\{0}-{1}.txt\".format(active_prefix, index_padded)\n",
    "        temp_df.to_csv(new_filepath, sep='\\t', index=False, header=False)\n",
    "        temp_df = temp_df.apply(lambda x: ' '.join(x.astype(str)), axis=1)\n",
    "        temp_df = temp_df.replace(\"\", np.nan)\n",
    "        temp_df = temp_df.replace(\"\\s+\", \" \", regex=True).dropna()\n",
    "        comb = ' '.join(temp_df)\n",
    "        comb_filepath = \"..\\CleanCorpora\\HongKong\\_HongKongCorporaCombined{0}.txt\".format(counter)\n",
    "        with open(comb_filepath, 'w',encoding='UTF-8') as f:\n",
    "            f.write(comb)\n",
    "        counter+=1\n",
    "#combDF = pd.DataFrame(eval(comb))\n",
    "\n",
    "\n",
    "#combDF.to_csv(comb_filepath, sep='\\t', index=False)"
   ]
  },
  {
   "cell_type": "code",
   "execution_count": 107,
   "id": "215d32d2",
   "metadata": {},
   "outputs": [
    {
     "name": "stdout",
     "output_type": "stream",
     "text": [
      "      Label                                           Document\n",
      "0  HongKong  yeah   first of all uhm this isn't the best wa...\n",
      "1  HongKong  uhm so you want to go to beijing this summer u...\n",
      "2  HongKong  uhm what about you can you introduce yourself ...\n",
      "3  HongKong  uhm anything you ' re particularly interested ...\n",
      "4  HongKong  uh no no no no i i i think uhm even i don't at...\n"
     ]
    }
   ],
   "source": [
    "dfs = []\n",
    "for i in range(300):\n",
    "    with open(\"..\\CleanCorpora\\HongKong\\_HongKongCorporaCombined{0}.txt\".format(i), \"r\", encoding='UTF-8') as file:\n",
    "        text = file.read()\n",
    "    df = pd.DataFrame({\"Label\": \"HongKong\", \"Document\": [text]})\n",
    "    dfs.append(df)\n",
    "    #combdf = pd.concat([combdf, df], ignore_index=True)\n",
    "comb = pd.concat(dfs, ignore_index=True)\n",
    "print(comb.head())\n",
    "comb.to_csv(\"..\\CleanCorpora\\HongKong\\__FULLHongKongCorporaCombined.txt\", sep='\\t', index=False, header=False)\n",
    "HongKong=comb"
   ]
  },
  {
   "cell_type": "code",
   "execution_count": 66,
   "id": "2d3ba2ef",
   "metadata": {},
   "outputs": [],
   "source": [
    "#Philippines Corpus\n",
    "count = [100, 80, 70, 50]\n",
    "prefix = [\"S1A\", \"S1B\", \"S2A\", \"S2B\"]\n",
    "comb=''\n",
    "counter=0\n",
    "for i in range(0, 4):\n",
    "    end=count[i]+1\n",
    "    active_prefix = prefix[i]\n",
    "    for i in range(1, end):\n",
    "        index_padded = str(i).zfill(3)\n",
    "        filepath = \"..\\Corpora\\ICE Philippines\\Corpus\\{0}-{1}.txt\".format(active_prefix, index_padded)\n",
    "        temp_df = pd.read_csv(filepath, sep=\"<$A>|<$B>\", engine='python', encoding='ISO-8859-1')\n",
    "        temp_df = temp_df.replace(to_replace=r'<[^<>]*>', value='', regex=True)\n",
    "        temp_df = temp_df.apply(lambda temp_df: temp_df.str.lower())\n",
    "        #comb = comb.append(temp_df)\n",
    "        new_filepath = \"..\\CleanCorpora\\Philippines\\{0}-{1}.txt\".format(active_prefix, index_padded)\n",
    "        temp_df.to_csv(new_filepath, sep='\\t', index=False, header=False)\n",
    "        temp_df = temp_df.apply(lambda x: ' '.join(x.astype(str)), axis=1)\n",
    "        temp_df = temp_df.replace(\"\", np.nan)\n",
    "        temp_df = temp_df.replace(\"\\s+\", \" \", regex=True).dropna()\n",
    "        comb = ' '.join(temp_df)\n",
    "        comb_filepath = \"..\\CleanCorpora\\Philippines\\_PhilippinesCorporaCombined{0}.txt\".format(counter)\n",
    "        with open(comb_filepath, 'w',encoding='UTF-8') as f:\n",
    "            f.write(comb)\n",
    "        counter+=1\n",
    "#combDF = pd.DataFrame(eval(comb))\n",
    "\n",
    "\n",
    "#combDF.to_csv(comb_filepath, sep='\\t', index=False)"
   ]
  },
  {
   "cell_type": "code",
   "execution_count": 112,
   "id": "2947dee6",
   "metadata": {},
   "outputs": [
    {
     "name": "stdout",
     "output_type": "stream",
     "text": [
      "         Label                                           Document\n",
      "0  Philippines  oh so how are you how 's life uh it 's fine ra...\n",
      "1  Philippines  i 'm leaving next next next monday it 's on th...\n",
      "2  Philippines  how many books are you writing sir brother and...\n",
      "3  Philippines  you 're in white you 're so pure and virginal ...\n",
      "4  Philippines  so we 'd like to have a brief account of your ...\n"
     ]
    }
   ],
   "source": [
    "dfs = []\n",
    "for i in range(300):\n",
    "    with open(\"..\\CleanCorpora\\Philippines\\_PhilippinesCorporaCombined{0}.txt\".format(i), \"r\", encoding='UTF-8') as file:\n",
    "        text = file.read()\n",
    "    df = pd.DataFrame({\"Label\": \"Philippines\", \"Document\": [text]})\n",
    "    dfs.append(df)\n",
    "    #combdf = pd.concat([combdf, df], ignore_index=True)\n",
    "comb = pd.concat(dfs, ignore_index=True)\n",
    "print(comb.head())\n",
    "comb.to_csv(\"..\\CleanCorpora\\Philippines\\__FULLPhilippinesCorporaCombined.txt\", sep='\\t', index=False, header=False)\n",
    "Philippines=comb"
   ]
  },
  {
   "cell_type": "code",
   "execution_count": 69,
   "id": "554673a9",
   "metadata": {},
   "outputs": [],
   "source": [
    "#Singapore Corpus\n",
    "count = [100, 80, 70, 50]\n",
    "prefix = [\"S1A\", \"S1B\", \"S2A\", \"S2B\"]\n",
    "comb=''\n",
    "counter=0\n",
    "for i in range(0, 4):\n",
    "    end=count[i]+1\n",
    "    active_prefix = prefix[i]\n",
    "    for i in range(1, end):\n",
    "        index_padded = str(i).zfill(3)\n",
    "        filepath = \"..\\Corpora\\ICE Singapore\\Corpus\\{0}-{1}.txt\".format(active_prefix, index_padded)\n",
    "        temp_df = pd.read_csv(filepath, sep=\"<$A>|<$B>\", engine='python', encoding='ISO-8859-1')\n",
    "        temp_df = temp_df.replace(to_replace=r'<[^<>]*>', value='', regex=True)\n",
    "        temp_df = temp_df.apply(lambda temp_df: temp_df.str.lower())\n",
    "        #comb = comb.append(temp_df)\n",
    "        new_filepath = \"..\\CleanCorpora\\Singapore\\{0}-{1}.txt\".format(active_prefix, index_padded)\n",
    "        temp_df.to_csv(new_filepath, sep='\\t', index=False, header=False)\n",
    "        temp_df = temp_df.apply(lambda x: ' '.join(x.astype(str)), axis=1)\n",
    "        temp_df = temp_df.replace(\"\", np.nan)\n",
    "        temp_df = temp_df.replace(\"\\s+\", \" \", regex=True).dropna()\n",
    "        comb = ' '.join(temp_df)\n",
    "        comb_filepath = \"..\\CleanCorpora\\Singapore\\_SingaporeCorporaCombined{0}.txt\".format(counter)\n",
    "        with open(comb_filepath, 'w',encoding='UTF-8') as f:\n",
    "            f.write(comb)\n",
    "        counter+=1\n",
    "#combDF = pd.DataFrame(eval(comb))\n",
    "\n",
    "\n",
    "#combDF.to_csv(comb_filepath, sep='\\t', index=False)"
   ]
  },
  {
   "cell_type": "code",
   "execution_count": 109,
   "id": "7cac4716",
   "metadata": {},
   "outputs": [
    {
     "name": "stdout",
     "output_type": "stream",
     "text": [
      "       Label                                           Document\n",
      "0  Singapore  is that that's not enough for you ah thirsty i...\n",
      "1  Singapore  on her own uhm i think so because she's stayin...\n",
      "2  Singapore  i believe i just had one okay how about yours ...\n",
      "3  Singapore  why did they revert back to the end of year ex...\n",
      "4  Singapore   29 december 1991  feel like counting used to ...\n"
     ]
    }
   ],
   "source": [
    "dfs = []\n",
    "for i in range(300):\n",
    "    with open(\"..\\CleanCorpora\\Singapore\\_SingaporeCorporaCombined{0}.txt\".format(i), \"r\", encoding='UTF-8') as file:\n",
    "        text = file.read()\n",
    "    df = pd.DataFrame({\"Label\": \"Singapore\", \"Document\": [text]})\n",
    "    dfs.append(df)\n",
    "    #combdf = pd.concat([combdf, df], ignore_index=True)\n",
    "comb = pd.concat(dfs, ignore_index=True)\n",
    "print(comb.head())\n",
    "comb.to_csv(\"..\\CleanCorpora\\Singapore\\__FULLSingaporeCorporaCombined.txt\", sep='\\t', index=False, header=False)\n",
    "Singapore=comb"
   ]
  },
  {
   "cell_type": "code",
   "execution_count": 116,
   "id": "0692d690",
   "metadata": {},
   "outputs": [],
   "source": [
    "#Concatenate all 4 dialects\n",
    "dfs = pd.concat([India, HongKong, Philippines, Singapore], ignore_index=True)\n",
    "dfs.shape\n",
    "dfs.to_csv(\"..\\CleanCorpora\\Combined\\Combined.txt\", sep='\\t', index=False, header=False)"
   ]
  },
  {
   "cell_type": "code",
   "execution_count": 124,
   "id": "2aab3f0c",
   "metadata": {},
   "outputs": [],
   "source": [
    "#Machine learning\n",
    "from sklearn.feature_extraction.text import CountVectorizer\n",
    "from sklearn.model_selection import train_test_split\n",
    "from sklearn.naive_bayes import MultinomialNB\n",
    "from sklearn.feature_extraction.text import TfidfVectorizer\n",
    "from sklearn.metrics import accuracy_score"
   ]
  },
  {
   "cell_type": "code",
   "execution_count": 129,
   "id": "792dd6f9",
   "metadata": {},
   "outputs": [
    {
     "name": "stdout",
     "output_type": "stream",
     "text": [
      "Accuracy: 93.75%\n"
     ]
    }
   ],
   "source": [
    "tfidf = TfidfVectorizer(stop_words='english')\n",
    "dfs_x = dfs[\"Document\"]\n",
    "dfs_y = dfs[\"Label\"]\n",
    "x_train, x_test, y_train, y_test = train_test_split(dfs_x, dfs_y, test_size=0.2, random_state=4)\n",
    "x_train = tfidf.fit_transform(x_train)\n",
    "x_test = tfidf.transform(x_test)\n",
    "clf = MultinomialNB()\n",
    "clf.fit(x_train, y_train)\n",
    "y_pred = clf.predict(x_test)\n",
    "acc = accuracy_score(y_test, y_pred)\n",
    "print(\"Accuracy: {:.2f}%\".format(acc * 100))"
   ]
  },
  {
   "cell_type": "code",
   "execution_count": null,
   "id": "345e83bb",
   "metadata": {},
   "outputs": [],
   "source": []
  }
 ],
 "metadata": {
  "kernelspec": {
   "display_name": "Python 3 (ipykernel)",
   "language": "python",
   "name": "python3"
  },
  "language_info": {
   "codemirror_mode": {
    "name": "ipython",
    "version": 3
   },
   "file_extension": ".py",
   "mimetype": "text/x-python",
   "name": "python",
   "nbconvert_exporter": "python",
   "pygments_lexer": "ipython3",
   "version": "3.9.12"
  }
 },
 "nbformat": 4,
 "nbformat_minor": 5
}
