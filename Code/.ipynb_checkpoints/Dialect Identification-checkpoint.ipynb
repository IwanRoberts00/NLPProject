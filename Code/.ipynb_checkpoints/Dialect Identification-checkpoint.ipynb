{
 "cells": [
  {
   "cell_type": "code",
   "execution_count": 1,
   "id": "80393b66",
   "metadata": {},
   "outputs": [],
   "source": [
    "import pandas as pd"
   ]
  },
  {
   "cell_type": "code",
   "execution_count": 4,
   "id": "fc34d995",
   "metadata": {},
   "outputs": [],
   "source": [
    "df = pd.read_csv(\"..\\Corpora\\ICE INDIA\\Corpus\\S1a-001.txt\", sep=\"<$A>|<$B>\", engine='python')\n"
   ]
  },
  {
   "cell_type": "code",
   "execution_count": 5,
   "id": "47897384",
   "metadata": {},
   "outputs": [
    {
     "name": "stdout",
     "output_type": "stream",
     "text": [
      "                           <I>\n",
      "0                         <$A>\n",
      "1      <ICE-IND:S1A-001#1:1:A>\n",
      "2    May I know your good name\n",
      "3                         <$B>\n",
      "4      <ICE-IND:S1A-001#2:1:B>\n",
      "..                         ...\n",
      "711  <ICE-IND:S1A-001#246:1:B>\n",
      "712              Thank you <,>\n",
      "713                       <$A>\n",
      "714  <ICE-IND:S1A-001#247:1:A>\n",
      "715   Thank you very much </I>\n",
      "\n",
      "[716 rows x 1 columns]\n"
     ]
    }
   ],
   "source": [
    "print(df)"
   ]
  },
  {
   "cell_type": "code",
   "execution_count": 6,
   "id": "e5be1ad1",
   "metadata": {},
   "outputs": [
    {
     "name": "stdout",
     "output_type": "stream",
     "text": [
      "                           <I>\n",
      "0                             \n",
      "1                             \n",
      "2    May I know your good name\n",
      "3                             \n",
      "4                             \n",
      "..                         ...\n",
      "711                           \n",
      "712                 Thank you \n",
      "713                           \n",
      "714                           \n",
      "715       Thank you very much \n",
      "\n",
      "[716 rows x 1 columns]\n"
     ]
    }
   ],
   "source": [
    "df = df.replace(to_replace=r'<.*>', value='', regex=True)\n",
    "print(df)"
   ]
  },
  {
   "cell_type": "code",
   "execution_count": null,
   "id": "f52f11c9",
   "metadata": {},
   "outputs": [],
   "source": []
  }
 ],
 "metadata": {
  "kernelspec": {
   "display_name": "Python 3 (ipykernel)",
   "language": "python",
   "name": "python3"
  },
  "language_info": {
   "codemirror_mode": {
    "name": "ipython",
    "version": 3
   },
   "file_extension": ".py",
   "mimetype": "text/x-python",
   "name": "python",
   "nbconvert_exporter": "python",
   "pygments_lexer": "ipython3",
   "version": "3.9.12"
  }
 },
 "nbformat": 4,
 "nbformat_minor": 5
}
