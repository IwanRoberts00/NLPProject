{
 "cells": [
  {
   "cell_type": "code",
   "execution_count": 96,
   "id": "6fcba1d4",
   "metadata": {},
   "outputs": [],
   "source": [
    "import pandas as pd\n",
    "import numpy as np\n",
    "from io import StringIO\n",
    "import matplotlib.pyplot as plt\n",
    "#Machine learning\n",
    "from sklearn.feature_extraction.text import CountVectorizer\n",
    "from sklearn.model_selection import train_test_split\n",
    "from sklearn.naive_bayes import MultinomialNB\n",
    "from sklearn.feature_extraction.text import TfidfVectorizer\n",
    "from sklearn.svm import SVC\n",
    "from sklearn.svm import LinearSVC\n",
    "from sklearn.ensemble import RandomForestClassifier\n",
    "from sklearn.naive_bayes import MultinomialNB\n",
    "#Metrics\n",
    "from sklearn.metrics import accuracy_score\n",
    "from sklearn.metrics import confusion_matrix\n",
    "from sklearn.metrics import ConfusionMatrixDisplay\n",
    "from sklearn.metrics import precision_recall_fscore_support\n"
   ]
  },
  {
   "cell_type": "code",
   "execution_count": null,
   "id": "ca3d17c3",
   "metadata": {},
   "outputs": [],
   "source": [
    "######################################################\n",
    "############## DIALECT IDENTIFICATION ################\n",
    "######################################################"
   ]
  },
  {
   "cell_type": "code",
   "execution_count": null,
   "id": "a7bd544d",
   "metadata": {},
   "outputs": [],
   "source": [
    "#TEST THAT DIALECT IDENTIFICATION WORKS CORRECTLY\n",
    "tfidf = TfidfVectorizer(stop_words='english', min_df=5, max_df=0.8, ngram_range=[1,3])\n",
    "dfs_x = dfs[\"Document\"]\n",
    "dfs_y = dfs[\"Label\"]\n",
    "x_train, x_test, y_train, y_test = train_test_split(dfs_x, dfs_y, test_size=0.2, random_state=4)\n",
    "x_train = tfidf.fit_transform(x_train)\n",
    "x_test = tfidf.transform(x_test)\n",
    "dialect_clf = MultinomialNB()\n",
    "#dialect_clf = SVC(kernel=\"sigmoid\")\n",
    "#dialect_clf = LinearSVC()\n",
    "#dialect_clf = RandomForestClassifier()\n",
    "dialect_clf.fit(x_train, y_train)\n",
    "y_pred = dialect_clf.predict(x_test)"
   ]
  },
  {
   "cell_type": "code",
   "execution_count": 2,
   "id": "a3859d78",
   "metadata": {},
   "outputs": [
    {
     "ename": "NameError",
     "evalue": "name 'pd' is not defined",
     "output_type": "error",
     "traceback": [
      "\u001b[1;31m---------------------------------------------------------------------------\u001b[0m",
      "\u001b[1;31mNameError\u001b[0m                                 Traceback (most recent call last)",
      "Input \u001b[1;32mIn [2]\u001b[0m, in \u001b[0;36m<cell line: 4>\u001b[1;34m()\u001b[0m\n\u001b[0;32m      7\u001b[0m     \u001b[38;5;28;01mwith\u001b[39;00m \u001b[38;5;28mopen\u001b[39m(\u001b[38;5;124m\"\u001b[39m\u001b[38;5;124m..\u001b[39m\u001b[38;5;124m\\\u001b[39m\u001b[38;5;124mCleanCorpora\u001b[39m\u001b[38;5;124m\\\u001b[39m\u001b[38;5;132;01m{0}\u001b[39;00m\u001b[38;5;124m\\\u001b[39m\u001b[38;5;124m_\u001b[39m\u001b[38;5;132;01m{0}\u001b[39;00m\u001b[38;5;124mCorporaCombined\u001b[39m\u001b[38;5;132;01m{1}\u001b[39;00m\u001b[38;5;124m.txt\u001b[39m\u001b[38;5;124m\"\u001b[39m\u001b[38;5;241m.\u001b[39mformat(labels[dialect], i), \u001b[38;5;124m\"\u001b[39m\u001b[38;5;124mr\u001b[39m\u001b[38;5;124m\"\u001b[39m, encoding\u001b[38;5;241m=\u001b[39m\u001b[38;5;124m'\u001b[39m\u001b[38;5;124mUTF-8\u001b[39m\u001b[38;5;124m'\u001b[39m) \u001b[38;5;28;01mas\u001b[39;00m file:\n\u001b[0;32m      8\u001b[0m         text \u001b[38;5;241m=\u001b[39m file\u001b[38;5;241m.\u001b[39mread()\n\u001b[1;32m----> 9\u001b[0m     df \u001b[38;5;241m=\u001b[39m \u001b[43mpd\u001b[49m\u001b[38;5;241m.\u001b[39mDataFrame({\u001b[38;5;124m\"\u001b[39m\u001b[38;5;124mLabel\u001b[39m\u001b[38;5;124m\"\u001b[39m: labels[dialect], \u001b[38;5;124m\"\u001b[39m\u001b[38;5;124mDocument\u001b[39m\u001b[38;5;124m\"\u001b[39m: [text]})\n\u001b[0;32m     10\u001b[0m     dfs\u001b[38;5;241m.\u001b[39mappend(df)\n\u001b[0;32m     11\u001b[0m \u001b[38;5;28mprint\u001b[39m(\u001b[38;5;28mlen\u001b[39m(dfs))\n",
      "\u001b[1;31mNameError\u001b[0m: name 'pd' is not defined"
     ]
    }
   ],
   "source": [
    "dfs = []\n",
    "datasets = []\n",
    "labels = [\"HongKong\", \"Philippines\", \"Singapore\", \"Canada\", \"India\"]\n",
    "for dialect in range(len(labels)):\n",
    "    comb=None\n",
    "    for i in range(300):\n",
    "        with open(\"..\\CleanCorpora\\{0}\\_{0}CorporaCombined{1}.txt\".format(labels[dialect], i), \"r\", encoding='UTF-8') as file:\n",
    "            text = file.read()\n",
    "        df = pd.DataFrame({\"Label\": labels[dialect], \"Document\": [text]})\n",
    "        dfs.append(df)\n",
    "    print(len(dfs))\n",
    "    comb = pd.concat(dfs, ignore_index=True)\n",
    "    datasets.append(comb)\n",
    "#Concatenate all 4 dialects\n",
    "dfs = pd.concat(datasets, ignore_index=True)\n",
    "dialect_dfs = dfs"
   ]
  },
  {
   "cell_type": "code",
   "execution_count": null,
   "id": "fc506268",
   "metadata": {},
   "outputs": [],
   "source": [
    "print(y_p)"
   ]
  },
  {
   "cell_type": "code",
   "execution_count": null,
   "id": "d2f8db7c",
   "metadata": {},
   "outputs": [],
   "source": [
    "#Accuracy, Feature importance, and Confusion Matrix\n",
    "acc = accuracy_score(y_test, y_pred)\n",
    "print(\"Accuracy: {:.2f}%\".format(acc * 100))\n",
    "print(\"==========\")"
   ]
  },
  {
   "cell_type": "code",
   "execution_count": null,
   "id": "e06460a9",
   "metadata": {},
   "outputs": [],
   "source": [
    "######################################################\n",
    "################ SENTIMENT ANALYSIS ##################\n",
    "######################################################"
   ]
  },
  {
   "cell_type": "code",
   "execution_count": null,
   "id": "b978714e",
   "metadata": {},
   "outputs": [],
   "source": [
    "#Malay -> Indian -> Reference\n",
    "sentiment_comb = []"
   ]
  },
  {
   "cell_type": "code",
   "execution_count": 4,
   "id": "befa1965",
   "metadata": {},
   "outputs": [
    {
     "name": "stdout",
     "output_type": "stream",
     "text": [
      "<class 'pandas.core.frame.DataFrame'>\n",
      "698\n"
     ]
    }
   ],
   "source": [
    "#Read the Malay file\n",
    "sentiment_comb = []\n",
    "filepath = \"../Corpora/Sentiment-Malay/data_cleaned/TripAdvisor_data_cleaned.csv\"\n",
    "df = pd.read_csv(filepath, sep=\",\", engine=\"python\", encoding=\"ISO-8859-1\", nrows=6000)\n",
    "df=df.drop([\"Author\", \"Restaurant\", \"Location\"], axis=1)\n",
    "df=df[df[\"Rating\"]!=3.0]\n",
    "print(type(df))\n",
    "df.loc[df[\"Rating\"] == 4.0, \"Rating\"] = \"positive\"\n",
    "df.loc[df[\"Rating\"] == 5.0, \"Rating\"] = \"positive\"\n",
    "df.loc[df[\"Rating\"] == 2.0, \"Rating\"] = \"negative\"\n",
    "df.loc[df[\"Rating\"] == 1.0, \"Rating\"] = \"negative\"\n",
    "not_positive_rows = df[df['Rating'] != 'positive']\n",
    "positive_rows = df[df['Rating'] == 'positive']\n",
    "positive_sample = positive_rows.sample(frac=0.1, random_state=42)\n",
    "df = pd.concat([not_positive_rows, positive_sample])\n",
    "df = df.replace(to_replace=r'[^\\w\\s]', value='', regex=True)\n",
    "sentiment_malay_df = df\n",
    "export_malay_df = df\n",
    "print(len(df))\n",
    "sentiment_comb.append(df)"
   ]
  },
  {
   "cell_type": "code",
   "execution_count": 5,
   "id": "e1842e28",
   "metadata": {},
   "outputs": [
    {
     "name": "stdout",
     "output_type": "stream",
     "text": [
      "Size:  1862 \n",
      "Head:\n",
      "      Rating                                             Review\n",
      "0  negative  I bought this hair oil after viewing so many g...\n",
      "1  positive  Used This Mama Earth Newly Launched Onion Oil ...\n",
      "2  negative  So bad productMy hair falling increase too muc...\n",
      "3  negative  Product just smells similar to navarathna hair...\n",
      "4  positive  I have been trying different onion oil for my ...\n"
     ]
    }
   ],
   "source": [
    "#Read the Indian file\n",
    "sentiment_comb = []\n",
    "filepath = \"../Corpora/Sentiment-Indian/amazon_vfl_reviews.csv\"\n",
    "df = pd.read_csv(filepath, sep=\",\", engine=\"python\", encoding=\"ISO-8859-1\", nrows=1000)\n",
    "df=df.drop([\"asin\", \"name\", \"date\"], axis=1)\n",
    "df=df.rename(columns={\"rating\":\"Rating\"})\n",
    "df=df.rename(columns={\"review\":\"Review\"})\n",
    "df=df[df[\"Rating\"]!=3.0]\n",
    "df.loc[df[\"Rating\"] == 4.0, \"Rating\"] = \"positive\"\n",
    "df.loc[df[\"Rating\"] == 5.0, \"Rating\"] = \"positive\"\n",
    "df.loc[df[\"Rating\"] == 2.0, \"Rating\"] = \"negative\"\n",
    "df.loc[df[\"Rating\"] == 1.0, \"Rating\"] = \"negative\"\n",
    "df = df.replace(to_replace=r'[^\\w\\s]', value='', regex=True)\n",
    "sentiment_indian_df = df\n",
    "export_indian_df = df\n",
    "print(\"Size: \",df.size, \"\\nHead:\\n\", df.head())\n",
    "sentiment_comb.append(df)"
   ]
  },
  {
   "cell_type": "code",
   "execution_count": 6,
   "id": "54b5c1fa",
   "metadata": {},
   "outputs": [],
   "source": [
    "#Read the Reference file\n",
    "sentiment_comb = []\n",
    "filepath = \"../Corpora/Sentiment-Reference/test.txt.txt\"\n",
    "df = pd.DataFrame()\n",
    "df[\"X\"] = pd.read_csv(filepath, sep=\"\\t\", engine=\"python\", encoding=\"ISO-8859-1\", nrows=2000)\n",
    "df[[\"Rating\", \"Review\"]] = df[\"X\"].str.split(\" \", n=1, expand=True)\n",
    "df.drop(\"X\", axis=1, inplace=True)\n",
    "df.loc[df[\"Rating\"] == \"__label__1\", \"Rating\"] = \"negative\"\n",
    "df.loc[df[\"Rating\"] == \"__label__2\", \"Rating\"] = \"positive\"\n",
    "df.head()\n",
    "sentiment_ref_df = df\n",
    "export_ref_df = df\n",
    "sentiment_comb.append(df)"
   ]
  },
  {
   "cell_type": "code",
   "execution_count": null,
   "id": "3096d296",
   "metadata": {},
   "outputs": [],
   "source": [
    "y_test_comb = []\n",
    "x_test_comb = []"
   ]
  },
  {
   "cell_type": "code",
   "execution_count": 152,
   "id": "e3619c24",
   "metadata": {},
   "outputs": [],
   "source": [
    "#Train the model\n",
    "#Singapores\n",
    "df = sentiment_malay_df\n",
    "tfidf = TfidfVectorizer(stop_words='english', min_df=5, max_df=0.8, ngram_range=[1,3])\n",
    "dfs_x = df[\"Review\"]\n",
    "dfs_y = df[\"Rating\"]\n",
    "x_train, x_test, y_train, y_test = train_test_split(dfs_x, dfs_y, test_size=0.2, random_state=3)\n",
    "x_train = tfidf.fit_transform(x_train)\n",
    "x_test = tfidf.transform(x_test)\n",
    "malay_clf = MultinomialNB()\n",
    "#malay_clf = SVC(kernel=\"sigmoid\")\n",
    "#malay_clf = LinearSVC()\n",
    "#malay_clf = RandomForestClassifier()\n",
    "malay_clf.fit(x_train, y_train)\n",
    "y_pred = malay_clf.predict(x_test)"
   ]
  },
  {
   "cell_type": "code",
   "execution_count": 153,
   "id": "dfdc41a3",
   "metadata": {},
   "outputs": [
    {
     "name": "stdout",
     "output_type": "stream",
     "text": [
      "Accuracy: 91.43%\n",
      "Precision:  0.9225806451612902\n",
      "Recall:  0.9142857142857143\n",
      "fscore:  0.9047765793528504\n",
      "==========\n",
      "Confusion Matrix: \n",
      "\n"
     ]
    },
    {
     "data": {
      "image/png": "[encoded data removed]",
      "text/plain": [
       "<Figure size 432x288 with 2 Axes>"
      ]
     },
     "metadata": {
      "needs_background": "light"
     },
     "output_type": "display_data"
    }
   ],
   "source": [
    "acc = accuracy_score(y_test, y_pred)\n",
    "print(\"Accuracy: {:.2f}%\".format(acc * 100))\n",
    "precision, recall, fscore, support = precision_recall_fscore_support(y_test, y_pred, zero_division=0, average=\"weighted\")\n",
    "print(\"Precision: \", precision)\n",
    "print(\"Recall: \", recall)\n",
    "print(\"fscore: \", fscore)\n",
    "print(\"==========\")\n",
    "print(\"Confusion Matrix: \\n\")\n",
    "conf_matrix = confusion_matrix(y_test, y_pred, labels=malay_clf.classes_)\n",
    "disp = ConfusionMatrixDisplay(confusion_matrix=conf_matrix, display_labels=malay_clf.classes_)\n",
    "disp.plot()\n",
    "plt.show()\n"
   ]
  },
  {
   "cell_type": "code",
   "execution_count": 127,
   "id": "77b8a396",
   "metadata": {},
   "outputs": [],
   "source": [
    "#Train the model\n",
    "#Indian\n",
    "df = sentiment_indian_df\n",
    "tfidf = TfidfVectorizer(stop_words='english', min_df=5, max_df=0.8, ngram_range=[1,3])\n",
    "dfs_x = df[\"Review\"]\n",
    "dfs_y = df[\"Rating\"]\n",
    "x_train, x_test, y_train, y_test = train_test_split(dfs_x, dfs_y, test_size=0.2, random_state=0)\n",
    "x_train = tfidf.fit_transform(x_train)\n",
    "indian_x_test = tfidf.transform(x_test)\n",
    "indian_clf = MultinomialNB()\n",
    "#malay_clf = SVC(kernel=\"sigmoid\")\n",
    "#malay_clf = LinearSVC()\n",
    "#malay_clf = RandomForestClassifier()\n",
    "indian_clf.fit(x_train, y_train)\n",
    "y_pred = indian_clf.predict(indian_x_test)\n",
    "\n"
   ]
  },
  {
   "cell_type": "code",
   "execution_count": 128,
   "id": "0c9be8ec",
   "metadata": {},
   "outputs": [
    {
     "name": "stdout",
     "output_type": "stream",
     "text": [
      "Accuracy: 87.70%\n",
      "Precision:  0.8943604212460221\n",
      "Recall:  0.8770053475935828\n",
      "fscore:  0.8617517924120499\n",
      "==========\n",
      "Feature Importance:\n",
      "\n",
      "Label: Negative\n",
      "use: 0.3081901560503926\n",
      "leather straps: 0.29220116827954934\n",
      "wrist: 0.2844639796634029\n",
      "straps: 0.27776172202775445\n",
      "cheap: 0.27184991181921714\n",
      "\n",
      "Label: Positive\n",
      "ubtan: 0.39993230309689026\n",
      "facewash: 0.33736734800475326\n",
      "skin: 0.21923215243586786\n",
      "glow skin: 0.2149360384478544\n",
      "helps removing: 0.2149360384478544\n",
      "==========\n",
      "Confusion Matrix: \n",
      "\n"
     ]
    },
    {
     "data": {
      "image/png": "[encoded data removed]",
      "text/plain": [
       "<Figure size 432x288 with 2 Axes>"
      ]
     },
     "metadata": {
      "needs_background": "light"
     },
     "output_type": "display_data"
    }
   ],
   "source": [
    "acc = accuracy_score(y_test, y_pred)\n",
    "print(\"Accuracy: {:.2f}%\".format(acc * 100))\n",
    "precision, recall, fscore, support = precision_recall_fscore_support(y_test, y_pred, zero_division=0, average=\"weighted\")\n",
    "print(\"Precision: \", precision)\n",
    "print(\"Recall: \", recall)\n",
    "print(\"fscore: \", fscore)\n",
    "print(\"==========\")\n",
    "print(\"Feature Importance:\")\n",
    "labels = [\"Negative\", \"Positive\"]\n",
    "tfidf_values = x_train.toarray()\n",
    "feature_names = tfidf.get_feature_names_out()\n",
    "word_tfidf = {}\n",
    "for i, label in enumerate(labels):\n",
    "    for word, tfidf_val in zip(feature_names, tfidf_values[i]):\n",
    "        if label in word_tfidf:\n",
    "            word_tfidf[label][word] = tfidf_val\n",
    "        else:\n",
    "            word_tfidf[label] = {word: tfidf_val}\n",
    "\n",
    "sorted_words = {label:sorted(word_tfidf[label].items(), key=lambda x: x[1], reverse=True) for label in labels}\n",
    "\n",
    "n = 5\n",
    "for label in labels:\n",
    "    print(f\"\\nLabel: {label}\")\n",
    "    for word, tfidf_val in sorted_words[label][:n]:\n",
    "        print(f\"{word}: {tfidf_val}\")\n",
    "print(\"==========\")\n",
    "print(\"Confusion Matrix: \\n\")\n",
    "conf_matrix = confusion_matrix(y_test, y_pred, labels=indian_clf.classes_)\n",
    "disp = ConfusionMatrixDisplay(confusion_matrix=conf_matrix, display_labels=indian_clf.classes_)\n",
    "disp.plot()\n",
    "plt.show()\n"
   ]
  },
  {
   "cell_type": "code",
   "execution_count": null,
   "id": "df7c0da4",
   "metadata": {},
   "outputs": [],
   "source": [
    "#Combine all the models\n",
    "import_indian_df = export_indian_df\n",
    "import_indian_df[\"Rating\"] = \"India\"\n",
    "import_malay_df = export_malay_df\n",
    "import_malay_df[\"Rating\"] = \"Singapore\"\n",
    "sa_combined_df = pd.concat([import_indian_df, import_malay_df])\n",
    "print(len(import_indian_df), len(import_malay_df))"
   ]
  },
  {
   "cell_type": "code",
   "execution_count": 52,
   "id": "f46a3035",
   "metadata": {
    "scrolled": true
   },
   "outputs": [
    {
     "name": "stdout",
     "output_type": "stream",
     "text": [
      "Reference model tested on Reference dataset\n",
      "Accuracy: 78.25%\n",
      "Precision:  0.7910894047345438\n",
      "Recall:  0.7825\n",
      "fscore:  0.7813741176470589\n",
      "==========\n",
      "Feature Importance:\n",
      "\n",
      "Label: Negative\n",
      "worth buying: 0.39936607816385283\n",
      "episodes: 0.37917544706827205\n",
      "buying: 0.2844574829716025\n",
      "worth: 0.24805911715451454\n",
      "bad: 0.22873565068477755\n",
      "\n",
      "Label: Positive\n",
      "router: 0.6458664833570184\n",
      "internet: 0.3030538380716051\n",
      "range: 0.2850247914922847\n",
      "bad: 0.17688058685936697\n",
      "hopefully: 0.1576877215957872\n",
      "==========\n",
      "Confusion Matrix: \n",
      "\n"
     ]
    },
    {
     "data": {
      "image/png": "[encoded data removed]",
      "text/plain": [
       "<Figure size 432x288 with 2 Axes>"
      ]
     },
     "metadata": {
      "needs_background": "light"
     },
     "output_type": "display_data"
    }
   ],
   "source": [
    "#Train the model\n",
    "#Reference\n",
    "df = sentiment_ref_df\n",
    "tfidf = TfidfVectorizer(stop_words='english', min_df=5, max_df=0.8, ngram_range=[1,3])\n",
    "dfs_x = df[\"Review\"]\n",
    "dfs_y = df[\"Rating\"]\n",
    "x_train, x_test, y_train, y_test = train_test_split(dfs_x, dfs_y, test_size=0.2, random_state=4)\n",
    "x_train = tfidf.fit_transform(x_train)\n",
    "x_test = tfidf.transform(x_test)\n",
    "ref_clf=MultinomialNB()\n",
    "#ref_clf = SVC(kernel=\"sigmoid\")\n",
    "#malay_clf = SVC(kernel=\"sigmoid\")\n",
    "#malay_clf = LinearSVC()\n",
    "#malay_clf = RandomForestClassifier()\n",
    "ref_clf.fit(x_train, y_train)\n",
    "y_pred = ref_clf.predict(x_test)\n",
    "acc = accuracy_score(y_test, y_pred)\n",
    "print(\"Reference model tested on Reference dataset\")\n",
    "print(\"Accuracy: {:.2f}%\".format(acc * 100))\n",
    "precision, recall, fscore, support = precision_recall_fscore_support(y_test, y_pred, zero_division=0, average=\"weighted\")\n",
    "print(\"Precision: \", precision)\n",
    "print(\"Recall: \", recall)\n",
    "print(\"fscore: \", fscore)\n",
    "print(\"==========\")\n",
    "print(\"Feature Importance:\")\n",
    "labels = [\"Negative\", \"Positive\"]\n",
    "tfidf_values = x_train.toarray()\n",
    "feature_names = tfidf.get_feature_names_out()\n",
    "word_tfidf = {}\n",
    "for i, label in enumerate(labels):\n",
    "    for word, tfidf_val in zip(feature_names, tfidf_values[i]):\n",
    "        if label in word_tfidf:\n",
    "            word_tfidf[label][word] = tfidf_val\n",
    "        else:\n",
    "            word_tfidf[label] = {word: tfidf_val}\n",
    "\n",
    "sorted_words = {label:sorted(word_tfidf[label].items(), key=lambda x: x[1], reverse=True) for label in labels}\n",
    "\n",
    "n = 5\n",
    "for label in labels:\n",
    "    print(f\"\\nLabel: {label}\")\n",
    "    for word, tfidf_val in sorted_words[label][:n]:\n",
    "        print(f\"{word}: {tfidf_val}\")\n",
    "print(\"==========\")\n",
    "print(\"Confusion Matrix: \\n\")\n",
    "conf_matrix = confusion_matrix(y_test, y_pred, labels=ref_clf.classes_)\n",
    "disp = ConfusionMatrixDisplay(confusion_matrix=conf_matrix, display_labels=ref_clf.classes_)\n",
    "disp.plot()\n",
    "plt.show()\n"
   ]
  },
  {
   "cell_type": "code",
   "execution_count": 56,
   "id": "9a8de893",
   "metadata": {
    "scrolled": true
   },
   "outputs": [
    {
     "name": "stdout",
     "output_type": "stream",
     "text": [
      "4530    I was always been fascinated with the preparat...\n",
      "132     Food is excellent Service is awesome Thanks to...\n",
      "5244    I called the night before visit to double conf...\n",
      "2656    Nice and safe place to hangout in this pandemi...\n",
      "5948    Great ambience great settings with exquisite d...\n",
      "                              ...                        \n",
      "1025    The only halal Italian cuisine you can find in...\n",
      "5938    truely enjoyed our dinner together with my fam...\n",
      "298     Enjoyed the steak  A good place for steak with...\n",
      "426     Celebrate bday at chamber grill with a great d...\n",
      "4952    The food was very nice indeed The waiter howev...\n",
      "Name: Review, Length: 140, dtype: object\n",
      "Reference model tested on Indian dataset\n",
      "Accuracy: 91.43%\n",
      "Precision:  0.9103044496487119\n",
      "Recall:  0.9142857142857143\n",
      "fscore:  0.9092436974789916\n",
      "==========\n",
      "Confusion Matrix: \n",
      "\n"
     ]
    },
    {
     "data": {
      "image/png": "[encoded data removed]",
      "text/plain": [
       "<Figure size 432x288 with 2 Axes>"
      ]
     },
     "metadata": {
      "needs_background": "light"
     },
     "output_type": "display_data"
    }
   ],
   "source": [
    "import_indian_df = export_malay_df\n",
    "import_indian_df = import_indian_df.sample(frac=0.2)\n",
    "import_indian_df_x = import_indian_df[\"Review\"]\n",
    "import_indian_df_y = import_indian_df[\"Rating\"]\n",
    "#label dataframe needs to match the \n",
    "test_indian_dfs_x=tfidf.transform(import_indian_df_x)\n",
    "y_pred2 = ref_clf.predict(test_indian_dfs_x)\n",
    "acc2 = accuracy_score(import_indian_df_y, y_pred2)\n",
    "print(import_indian_df_x)\n",
    "print(\"Reference model tested on Indian dataset\")\n",
    "print(\"Accuracy: {:.2f}%\".format(acc2 * 100))\n",
    "precision, recall, fscore, support = precision_recall_fscore_support(import_indian_df_y, y_pred2, zero_division=0, average=\"weighted\")\n",
    "print(\"Precision: \", precision)\n",
    "print(\"Recall: \", recall)\n",
    "print(\"fscore: \", fscore)\n",
    "print(\"==========\")\n",
    "print(\"Confusion Matrix: \\n\")\n",
    "conf_matrix = confusion_matrix(import_indian_df_y, y_pred2, labels=ref_clf.classes_)\n",
    "disp = ConfusionMatrixDisplay(confusion_matrix=conf_matrix, display_labels=ref_clf.classes_)\n",
    "disp.plot()\n",
    "plt.show()"
   ]
  },
  {
   "cell_type": "code",
   "execution_count": 28,
   "id": "e1c12150",
   "metadata": {},
   "outputs": [
    {
     "ename": "KeyboardInterrupt",
     "evalue": "",
     "output_type": "error",
     "traceback": [
      "\u001b[1;31m---------------------------------------------------------------------------\u001b[0m",
      "\u001b[1;31mKeyboardInterrupt\u001b[0m                         Traceback (most recent call last)",
      "Input \u001b[1;32mIn [28]\u001b[0m, in \u001b[0;36m<cell line: 7>\u001b[1;34m()\u001b[0m\n\u001b[0;32m      5\u001b[0m dfs_y \u001b[38;5;241m=\u001b[39m dfs[\u001b[38;5;124m\"\u001b[39m\u001b[38;5;124mLabel\u001b[39m\u001b[38;5;124m\"\u001b[39m]\n\u001b[0;32m      6\u001b[0m x_train, x_test, y_train, y_test \u001b[38;5;241m=\u001b[39m train_test_split(dfs_x, dfs_y, test_size\u001b[38;5;241m=\u001b[39m\u001b[38;5;241m0.2\u001b[39m, random_state\u001b[38;5;241m=\u001b[39m\u001b[38;5;241m0\u001b[39m)\n\u001b[1;32m----> 7\u001b[0m x_train \u001b[38;5;241m=\u001b[39m \u001b[43mtfidf\u001b[49m\u001b[38;5;241;43m.\u001b[39;49m\u001b[43mfit_transform\u001b[49m\u001b[43m(\u001b[49m\u001b[43mx_train\u001b[49m\u001b[43m)\u001b[49m\n\u001b[0;32m      8\u001b[0m x_test \u001b[38;5;241m=\u001b[39m tfidf\u001b[38;5;241m.\u001b[39mtransform(x_test)\n\u001b[0;32m      9\u001b[0m dialect_clf \u001b[38;5;241m=\u001b[39m SVC(kernel\u001b[38;5;241m=\u001b[39m\u001b[38;5;124m\"\u001b[39m\u001b[38;5;124msigmoid\u001b[39m\u001b[38;5;124m\"\u001b[39m)\n",
      "File \u001b[1;32m~\\anaconda3\\lib\\site-packages\\sklearn\\feature_extraction\\text.py:2077\u001b[0m, in \u001b[0;36mTfidfVectorizer.fit_transform\u001b[1;34m(self, raw_documents, y)\u001b[0m\n\u001b[0;32m   2058\u001b[0m \u001b[38;5;124;03m\"\"\"Learn vocabulary and idf, return document-term matrix.\u001b[39;00m\n\u001b[0;32m   2059\u001b[0m \n\u001b[0;32m   2060\u001b[0m \u001b[38;5;124;03mThis is equivalent to fit followed by transform, but more efficiently\u001b[39;00m\n\u001b[1;32m   (...)\u001b[0m\n\u001b[0;32m   2074\u001b[0m \u001b[38;5;124;03m    Tf-idf-weighted document-term matrix.\u001b[39;00m\n\u001b[0;32m   2075\u001b[0m \u001b[38;5;124;03m\"\"\"\u001b[39;00m\n\u001b[0;32m   2076\u001b[0m \u001b[38;5;28mself\u001b[39m\u001b[38;5;241m.\u001b[39m_check_params()\n\u001b[1;32m-> 2077\u001b[0m X \u001b[38;5;241m=\u001b[39m \u001b[38;5;28;43msuper\u001b[39;49m\u001b[43m(\u001b[49m\u001b[43m)\u001b[49m\u001b[38;5;241;43m.\u001b[39;49m\u001b[43mfit_transform\u001b[49m\u001b[43m(\u001b[49m\u001b[43mraw_documents\u001b[49m\u001b[43m)\u001b[49m\n\u001b[0;32m   2078\u001b[0m \u001b[38;5;28mself\u001b[39m\u001b[38;5;241m.\u001b[39m_tfidf\u001b[38;5;241m.\u001b[39mfit(X)\n\u001b[0;32m   2079\u001b[0m \u001b[38;5;66;03m# X is already a transformed view of raw_documents so\u001b[39;00m\n\u001b[0;32m   2080\u001b[0m \u001b[38;5;66;03m# we set copy to False\u001b[39;00m\n",
      "File \u001b[1;32m~\\anaconda3\\lib\\site-packages\\sklearn\\feature_extraction\\text.py:1330\u001b[0m, in \u001b[0;36mCountVectorizer.fit_transform\u001b[1;34m(self, raw_documents, y)\u001b[0m\n\u001b[0;32m   1322\u001b[0m             warnings\u001b[38;5;241m.\u001b[39mwarn(\n\u001b[0;32m   1323\u001b[0m                 \u001b[38;5;124m\"\u001b[39m\u001b[38;5;124mUpper case characters found in\u001b[39m\u001b[38;5;124m\"\u001b[39m\n\u001b[0;32m   1324\u001b[0m                 \u001b[38;5;124m\"\u001b[39m\u001b[38;5;124m vocabulary while \u001b[39m\u001b[38;5;124m'\u001b[39m\u001b[38;5;124mlowercase\u001b[39m\u001b[38;5;124m'\u001b[39m\u001b[38;5;124m\"\u001b[39m\n\u001b[0;32m   1325\u001b[0m                 \u001b[38;5;124m\"\u001b[39m\u001b[38;5;124m is True. These entries will not\u001b[39m\u001b[38;5;124m\"\u001b[39m\n\u001b[0;32m   1326\u001b[0m                 \u001b[38;5;124m\"\u001b[39m\u001b[38;5;124m be matched with any documents\u001b[39m\u001b[38;5;124m\"\u001b[39m\n\u001b[0;32m   1327\u001b[0m             )\n\u001b[0;32m   1328\u001b[0m             \u001b[38;5;28;01mbreak\u001b[39;00m\n\u001b[1;32m-> 1330\u001b[0m vocabulary, X \u001b[38;5;241m=\u001b[39m \u001b[38;5;28;43mself\u001b[39;49m\u001b[38;5;241;43m.\u001b[39;49m\u001b[43m_count_vocab\u001b[49m\u001b[43m(\u001b[49m\u001b[43mraw_documents\u001b[49m\u001b[43m,\u001b[49m\u001b[43m \u001b[49m\u001b[38;5;28;43mself\u001b[39;49m\u001b[38;5;241;43m.\u001b[39;49m\u001b[43mfixed_vocabulary_\u001b[49m\u001b[43m)\u001b[49m\n\u001b[0;32m   1332\u001b[0m \u001b[38;5;28;01mif\u001b[39;00m \u001b[38;5;28mself\u001b[39m\u001b[38;5;241m.\u001b[39mbinary:\n\u001b[0;32m   1333\u001b[0m     X\u001b[38;5;241m.\u001b[39mdata\u001b[38;5;241m.\u001b[39mfill(\u001b[38;5;241m1\u001b[39m)\n",
      "File \u001b[1;32m~\\anaconda3\\lib\\site-packages\\sklearn\\feature_extraction\\text.py:1214\u001b[0m, in \u001b[0;36mCountVectorizer._count_vocab\u001b[1;34m(self, raw_documents, fixed_vocab)\u001b[0m\n\u001b[0;32m   1212\u001b[0m     j_indices\u001b[38;5;241m.\u001b[39mextend(feature_counter\u001b[38;5;241m.\u001b[39mkeys())\n\u001b[0;32m   1213\u001b[0m     values\u001b[38;5;241m.\u001b[39mextend(feature_counter\u001b[38;5;241m.\u001b[39mvalues())\n\u001b[1;32m-> 1214\u001b[0m     \u001b[43mindptr\u001b[49m\u001b[38;5;241;43m.\u001b[39;49m\u001b[43mappend\u001b[49m(\u001b[38;5;28mlen\u001b[39m(j_indices))\n\u001b[0;32m   1216\u001b[0m \u001b[38;5;28;01mif\u001b[39;00m \u001b[38;5;129;01mnot\u001b[39;00m fixed_vocab:\n\u001b[0;32m   1217\u001b[0m     \u001b[38;5;66;03m# disable defaultdict behaviour\u001b[39;00m\n\u001b[0;32m   1218\u001b[0m     vocabulary \u001b[38;5;241m=\u001b[39m \u001b[38;5;28mdict\u001b[39m(vocabulary)\n",
      "\u001b[1;31mKeyboardInterrupt\u001b[0m: "
     ]
    }
   ],
   "source": [
    "#TEST TO SEE IF dialect identifier can tell where each comes from\n",
    "tfidf = TfidfVectorizer(stop_words='english', min_df=5, max_df=0.8, ngram_range=[1,3])\n",
    "dfs=dialect_dfs\n",
    "dfs_x = dfs[\"Document\"]\n",
    "dfs_y = dfs[\"Label\"]\n",
    "x_train, x_test, y_train, y_test = train_test_split(dfs_x, dfs_y, test_size=0.2, random_state=0)\n",
    "x_train = tfidf.fit_transform(x_train)\n",
    "x_test = tfidf.transform(x_test)\n",
    "dialect_clf = SVC(kernel=\"sigmoid\")\n",
    "dialect_clf.fit(x_train, y_train)"
   ]
  },
  {
   "cell_type": "code",
   "execution_count": null,
   "id": "a6a01b64",
   "metadata": {},
   "outputs": [],
   "source": []
  },
  {
   "cell_type": "code",
   "execution_count": null,
   "id": "2b149f5d",
   "metadata": {
    "scrolled": true
   },
   "outputs": [],
   "source": [
    "sa_combined_df_x = sa_combined_df[\"Review\"]\n",
    "sa_combined_df_y = sa_combined_df[\"Rating\"]\n",
    "x_test = tfidf.transform(sa_combined_df_x)\n",
    "y_pred = dialect_clf.predict(x_test)\n",
    "acc = accuracy_score(sa_combined_df_y, y_pred)\n",
    "print(\"Dialect identificaton model tested SA datasets\")\n",
    "print(\"Accuracy: {:.2f}%\".format(acc * 100))\n",
    "precision, recall, fscore, support = precision_recall_fscore_support(sa_combined_df_y, y_pred, zero_division=0, average=\"weighted\")\n",
    "print(\"Precision: \", (precision))\n",
    "print(\"Recall: \", (recall))\n",
    "print(\"fscore: \", (fscore))\n",
    "print(\"==========\")\n",
    "print(\"Confusion Matrix: \\n\")\n",
    "conf_matrix = confusion_matrix(sa_combined_df_y, y_pred, labels=dialect_clf.classes_)\n",
    "disp = ConfusionMatrixDisplay(confusion_matrix=conf_matrix, display_labels=dialect_clf.classes_)\n",
    "disp.plot()\n",
    "plt.show()"
   ]
  },
  {
   "cell_type": "code",
   "execution_count": null,
   "id": "ac1beeef",
   "metadata": {},
   "outputs": [],
   "source": []
  }
 ],
 "metadata": {
  "kernelspec": {
   "display_name": "Python 3 (ipykernel)",
   "language": "python",
   "name": "python3"
  },
  "language_info": {
   "codemirror_mode": {
    "name": "ipython",
    "version": 3
   },
   "file_extension": ".py",
   "mimetype": "text/x-python",
   "name": "python",
   "nbconvert_exporter": "python",
   "pygments_lexer": "ipython3",
   "version": "3.9.12"
  }
 },
 "nbformat": 4,
 "nbformat_minor": 5
}
