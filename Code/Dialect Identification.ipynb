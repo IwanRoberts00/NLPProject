{
 "cells": [
  {
   "cell_type": "code",
   "execution_count": 14,
   "id": "80393b66",
   "metadata": {},
   "outputs": [],
   "source": [
    "import pandas as pd\n",
    "import numpy as np\n",
    "from io import StringIO\n",
    "import matplotlib.pyplot as plt\n",
    "#Machine learning\n",
    "from sklearn.feature_extraction.text import CountVectorizer\n",
    "from sklearn.model_selection import train_test_split\n",
    "from sklearn.naive_bayes import MultinomialNB\n",
    "from sklearn.feature_extraction.text import TfidfVectorizer\n",
    "from sklearn.svm import SVC\n",
    "from sklearn.svm import LinearSVC\n",
    "from sklearn.ensemble import RandomForestClassifier\n",
    "#Metrics\n",
    "from sklearn.metrics import accuracy_score\n",
    "from sklearn.metrics import confusion_matrix\n",
    "from sklearn.metrics import ConfusionMatrixDisplay\n",
    "from sklearn.metrics import precision_recall_fscore_support"
   ]
  },
  {
   "cell_type": "code",
   "execution_count": 4,
   "id": "b299335a",
   "metadata": {},
   "outputs": [],
   "source": [
    "#Indian Corpus\n",
    "count = [100, 80, 70, 50]\n",
    "prefix = [\"S1A\", \"S1B\", \"S2A\", \"S2B\"]\n",
    "comb=''\n",
    "counter=0\n",
    "for i in range(0, 4):\n",
    "    end=count[i]+1\n",
    "    active_prefix = prefix[i]\n",
    "    for i in range(1, end):\n",
    "        index_padded = str(i).zfill(3)\n",
    "        filepath = \"..\\Corpora\\ICE INDIA\\Corpus\\{0}-{1}.txt\".format(active_prefix, index_padded)\n",
    "        temp_df = pd.read_csv(filepath, sep=\"<$A>|<$B>\", engine='python', encoding='ISO-8859-1')\n",
    "        temp_df = temp_df.replace(to_replace=r'<[^<>]*>', value='', regex=True)\n",
    "        temp_df = temp_df.apply(lambda temp_df: temp_df.str.lower())\n",
    "        temp_df = temp_df.apply(lambda x: ' '.join(x.astype(str)), axis=1)\n",
    "        temp_df = temp_df.replace(\"\", np.nan)\n",
    "        temp_df = temp_df.replace(\"\\s+\", \" \", regex=True).dropna()\n",
    "        comb = ' '.join(temp_df)\n",
    "        comb_filepath = \"..\\CleanCorpora\\India\\_IndiaCorporaCombined{0}.txt\".format(counter)\n",
    "        with open(comb_filepath, 'w',encoding='UTF-8') as f:\n",
    "            f.write(comb)\n",
    "        counter+=1\n",
    "#combDF = pd.DataFrame(eval(comb))\n",
    "\n",
    "\n",
    "#combDF.to_csv(comb_filepath, sep='\\t', index=False)"
   ]
  },
  {
   "cell_type": "code",
   "execution_count": 5,
   "id": "1328b1cf",
   "metadata": {},
   "outputs": [
    {
     "name": "stdout",
     "output_type": "stream",
     "text": [
      "   Label                                           Document\n",
      "0  India  may i know your good name my name is mrs lalit...\n",
      "1  India  uh okay let us continue yeah i am uh subramani...\n",
      "2  India  hello we'll arrange a party  yes on the fifth ...\n",
      "3  India  uhm hello ashokji i'm nice here because i'm  h...\n",
      "4  India  uh hello basu  how are you uhm hello  chakrabo...\n"
     ]
    }
   ],
   "source": [
    "dfs = []\n",
    "for i in range(300):\n",
    "    with open(\"..\\CleanCorpora\\India\\_IndiaCorporaCombined{0}.txt\".format(i), \"r\", encoding='UTF-8') as file:\n",
    "        text = file.read()\n",
    "    df = pd.DataFrame({\"Label\": \"India\", \"Document\": [text]})\n",
    "    dfs.append(df)\n",
    "comb = pd.concat(dfs, ignore_index=True)\n",
    "print(comb.head())\n",
    "comb.to_csv(\"..\\CleanCorpora\\India\\__FULLIndiaCorporaCombined.txt\", sep='\\t', index=False, header=False)\n",
    "India=comb"
   ]
  },
  {
   "cell_type": "code",
   "execution_count": 6,
   "id": "736eb501",
   "metadata": {},
   "outputs": [],
   "source": [
    "#HongKong Corpus\n",
    "count = [100, 80, 70, 50]\n",
    "prefix = [\"S1A\", \"S1B\", \"S2A\", \"S2B\"]\n",
    "comb=''\n",
    "counter=0\n",
    "for i in range(0, 4):\n",
    "    end=count[i]+1\n",
    "    active_prefix = prefix[i]\n",
    "    for i in range(1, end):\n",
    "        index_padded = str(i).zfill(3)\n",
    "        filepath = \"..\\Corpora\\ICE HongKong\\Corpus\\{0}-{1}.txt\".format(active_prefix, index_padded)\n",
    "        temp_df = pd.read_csv(filepath, sep=\"<$A>|<$B>\", engine='python', encoding='ISO-8859-1')\n",
    "        temp_df = temp_df.replace(to_replace=r'<[^<>]*>', value='', regex=True)\n",
    "        temp_df = temp_df.apply(lambda temp_df: temp_df.str.lower())\n",
    "        temp_df = temp_df.apply(lambda x: ' '.join(x.astype(str)), axis=1)\n",
    "        temp_df = temp_df.replace(\"\", np.nan)\n",
    "        temp_df = temp_df.replace(\"\\s+\", \" \", regex=True).dropna()\n",
    "        comb = ' '.join(temp_df)\n",
    "        comb_filepath = \"..\\CleanCorpora\\HongKong\\_HongKongCorporaCombined{0}.txt\".format(counter)\n",
    "        with open(comb_filepath, 'w',encoding='UTF-8') as f:\n",
    "            f.write(comb)\n",
    "        counter+=1\n",
    "#combDF = pd.DataFrame(eval(comb))\n",
    "\n",
    "\n",
    "#combDF.to_csv(comb_filepath, sep='\\t', index=False)"
   ]
  },
  {
   "cell_type": "code",
   "execution_count": 6,
   "id": "215d32d2",
   "metadata": {},
   "outputs": [
    {
     "name": "stdout",
     "output_type": "stream",
     "text": [
      "      Label                                           Document\n",
      "0  HongKong  yeah   first of all uhm this isn't the best wa...\n",
      "1  HongKong  uhm so you want to go to beijing this summer u...\n",
      "2  HongKong  uhm what about you can you introduce yourself ...\n",
      "3  HongKong  uhm anything you ' re particularly interested ...\n",
      "4  HongKong  uh no no no no i i i think uhm even i don't at...\n"
     ]
    }
   ],
   "source": [
    "dfs = []\n",
    "for i in range(300):\n",
    "    with open(\"..\\CleanCorpora\\HongKong\\_HongKongCorporaCombined{0}.txt\".format(i), \"r\", encoding='UTF-8') as file:\n",
    "        text = file.read()\n",
    "    df = pd.DataFrame({\"Label\": \"HongKong\", \"Document\": [text]})\n",
    "    dfs.append(df)\n",
    "    #combdf = pd.concat([combdf, df], ignore_index=True)\n",
    "comb = pd.concat(dfs, ignore_index=True)\n",
    "print(comb.head())\n",
    "comb.to_csv(\"..\\CleanCorpora\\HongKong\\__FULLHongKongCorporaCombined.txt\", sep='\\t', index=False, header=False)\n",
    "HongKong=comb"
   ]
  },
  {
   "cell_type": "code",
   "execution_count": 8,
   "id": "2d3ba2ef",
   "metadata": {},
   "outputs": [],
   "source": [
    "#Philippines Corpus\n",
    "count = [100, 80, 70, 50]\n",
    "prefix = [\"S1A\", \"S1B\", \"S2A\", \"S2B\"]\n",
    "comb=''\n",
    "counter=0\n",
    "for i in range(0, 4):\n",
    "    end=count[i]+1\n",
    "    active_prefix = prefix[i]\n",
    "    for i in range(1, end):\n",
    "        index_padded = str(i).zfill(3)\n",
    "        filepath = \"..\\Corpora\\ICE Philippines\\Corpus\\{0}-{1}.txt\".format(active_prefix, index_padded)\n",
    "        temp_df = pd.read_csv(filepath, sep=\"<$A>|<$B>\", engine='python', encoding='ISO-8859-1')\n",
    "        temp_df = temp_df.replace(to_replace=r'<[^<>]*>', value='', regex=True)\n",
    "        temp_df = temp_df.apply(lambda temp_df: temp_df.str.lower())\n",
    "        temp_df = temp_df.apply(lambda x: ' '.join(x.astype(str)), axis=1)\n",
    "        temp_df = temp_df.replace(\"\", np.nan)\n",
    "        temp_df = temp_df.replace(\"\\s+\", \" \", regex=True).dropna()\n",
    "        comb = ' '.join(temp_df)\n",
    "        comb_filepath = \"..\\CleanCorpora\\Philippines\\_PhilippinesCorporaCombined{0}.txt\".format(counter)\n",
    "        with open(comb_filepath, 'w',encoding='UTF-8') as f:\n",
    "            f.write(comb)\n",
    "        counter+=1\n",
    "#combDF = pd.DataFrame(eval(comb))\n",
    "\n",
    "\n",
    "#combDF.to_csv(comb_filepath, sep='\\t', index=False)"
   ]
  },
  {
   "cell_type": "code",
   "execution_count": 7,
   "id": "46a219a8",
   "metadata": {},
   "outputs": [
    {
     "name": "stdout",
     "output_type": "stream",
     "text": [
      "         Label                                           Document\n",
      "0  Philippines  oh so how are you how 's life uh it 's fine ra...\n",
      "1  Philippines  i 'm leaving next next next monday it 's on th...\n",
      "2  Philippines  how many books are you writing sir brother and...\n",
      "3  Philippines  you 're in white you 're so pure and virginal ...\n",
      "4  Philippines  so we 'd like to have a brief account of your ...\n"
     ]
    }
   ],
   "source": [
    "dfs = []\n",
    "for i in range(300):\n",
    "    with open(\"..\\CleanCorpora\\Philippines\\_PhilippinesCorporaCombined{0}.txt\".format(i), \"r\", encoding='UTF-8') as file:\n",
    "        text = file.read()\n",
    "    df = pd.DataFrame({\"Label\": \"Philippines\", \"Document\": [text]})\n",
    "    dfs.append(df)\n",
    "    #combdf = pd.concat([combdf, df], ignore_index=True)\n",
    "comb = pd.concat(dfs, ignore_index=True)\n",
    "print(comb.head())\n",
    "comb.to_csv(\"..\\CleanCorpora\\Philippines\\__FULLPhilippinesCorporaCombined.txt\", sep='\\t', index=False, header=False)\n",
    "Philippines=comb"
   ]
  },
  {
   "cell_type": "code",
   "execution_count": 10,
   "id": "2d4000d3",
   "metadata": {},
   "outputs": [],
   "source": [
    "#Singapore Corpus\n",
    "count = [100, 80, 70, 50]\n",
    "prefix = [\"S1A\", \"S1B\", \"S2A\", \"S2B\"]\n",
    "comb=''\n",
    "counter=0\n",
    "for i in range(0, 4):\n",
    "    end=count[i]+1\n",
    "    active_prefix = prefix[i]\n",
    "    for i in range(1, end):\n",
    "        index_padded = str(i).zfill(3)\n",
    "        filepath = \"..\\Corpora\\ICE Singapore\\Corpus\\{0}-{1}.txt\".format(active_prefix, index_padded)\n",
    "        temp_df = pd.read_csv(filepath, sep=\"<$A>|<$B>\", engine='python', encoding='ISO-8859-1')\n",
    "        temp_df = temp_df.replace(to_replace=r'<[^<>]*>', value='', regex=True)\n",
    "        temp_df = temp_df.apply(lambda temp_df: temp_df.str.lower())\n",
    "        temp_df = temp_df.apply(lambda x: ' '.join(x.astype(str)), axis=1)\n",
    "        temp_df = temp_df.replace(\"\", np.nan)\n",
    "        temp_df = temp_df.replace(\"\\s+\", \" \", regex=True).dropna()\n",
    "        comb = ' '.join(temp_df)\n",
    "        comb_filepath = \"..\\CleanCorpora\\Singapore\\_SingaporeCorporaCombined{0}.txt\".format(counter)\n",
    "        with open(comb_filepath, 'w',encoding='UTF-8') as f:\n",
    "            f.write(comb)\n",
    "        counter+=1\n",
    "#combDF = pd.DataFrame(eval(comb))\n",
    "\n",
    "\n",
    "#combDF.to_csv(comb_filepath, sep='\\t', index=False)"
   ]
  },
  {
   "cell_type": "code",
   "execution_count": 8,
   "id": "ee6f0b2f",
   "metadata": {},
   "outputs": [
    {
     "name": "stdout",
     "output_type": "stream",
     "text": [
      "       Label                                           Document\n",
      "0  Singapore  is that that's not enough for you ah thirsty i...\n",
      "1  Singapore  on her own uhm i think so because she's stayin...\n",
      "2  Singapore  i believe i just had one okay how about yours ...\n",
      "3  Singapore  why did they revert back to the end of year ex...\n",
      "4  Singapore   29 december 1991  feel like counting used to ...\n"
     ]
    }
   ],
   "source": [
    "dfs = []\n",
    "for i in range(300):\n",
    "    with open(\"..\\CleanCorpora\\Singapore\\_SingaporeCorporaCombined{0}.txt\".format(i), \"r\", encoding='UTF-8') as file:\n",
    "        text = file.read()\n",
    "    df = pd.DataFrame({\"Label\": \"Singapore\", \"Document\": [text]})\n",
    "    dfs.append(df)\n",
    "    #combdf = pd.concat([combdf, df], ignore_index=True)\n",
    "comb = pd.concat(dfs, ignore_index=True)\n",
    "print(comb.head())\n",
    "comb.to_csv(\"..\\CleanCorpora\\Singapore\\__FULLSingaporeCorporaCombined.txt\", sep='\\t', index=False, header=False)\n",
    "Singapore=comb"
   ]
  },
  {
   "cell_type": "code",
   "execution_count": 78,
   "id": "5f1bf103",
   "metadata": {},
   "outputs": [],
   "source": [
    "#Canada Corpus\n",
    "count = [100, 80, 70, 50]\n",
    "prefix = [\"S1A\", \"S1B\", \"S2A\", \"S2B\"]\n",
    "comb=''\n",
    "counter=0\n",
    "for i in range(0, 4):\n",
    "    end=count[i]+1\n",
    "    active_prefix = prefix[i]\n",
    "    for i in range(1, end):\n",
    "        index_padded = str(i).zfill(3)\n",
    "        filepath = \"..\\Corpora\\ICE Canada\\Corpus\\{0}-{1}.txt\".format(active_prefix, index_padded)\n",
    "        temp_df = pd.read_csv(filepath, sep=\"<$A>|<$B>\", engine='python', encoding='ISO-8859-1')\n",
    "        temp_df = temp_df.replace(to_replace=r'<[^<>]*>', value='', regex=True)\n",
    "        temp_df = temp_df.apply(lambda temp_df: temp_df.str.lower())\n",
    "        temp_df = temp_df.apply(lambda x: ' '.join(x.astype(str)), axis=1)\n",
    "        temp_df = temp_df.replace(\"\", np.nan)\n",
    "        temp_df = temp_df.replace(\"\\s+\", \" \", regex=True).dropna()\n",
    "        comb = ' '.join(temp_df)\n",
    "        comb_filepath = \"..\\CleanCorpora\\Canada\\_CanadaCorporaCombined{0}.txt\".format(counter)\n",
    "        with open(comb_filepath, 'w',encoding='UTF-8') as f:\n",
    "            f.write(comb)\n",
    "        counter+=1\n",
    "#combDF = pd.DataFrame(eval(comb))\n",
    "\n",
    "\n",
    "#combDF.to_csv(comb_filepath, sep='\\t', index=False)"
   ]
  },
  {
   "cell_type": "code",
   "execution_count": 9,
   "id": "05af14c3",
   "metadata": {},
   "outputs": [
    {
     "name": "stdout",
     "output_type": "stream",
     "text": [
      "    Label                                           Document\n",
      "0  Canada   word didn't get hiking boots  i guess that he...\n",
      "1  Canada   they're not going to be able to find it unles...\n",
      "2  Canada   i really think that would that's a bit naive ...\n",
      "3  Canada   good  and then they're they're  gonna going t...\n",
      "4  Canada  times   okay we have a couple of things we hav...\n"
     ]
    }
   ],
   "source": [
    "dfs = []\n",
    "for i in range(300):\n",
    "    with open(\"..\\CleanCorpora\\Canada\\_CanadaCorporaCombined{0}.txt\".format(i), \"r\", encoding='UTF-8') as file:\n",
    "        text = file.read()\n",
    "    df = pd.DataFrame({\"Label\": \"Canada\", \"Document\": [text]})\n",
    "    dfs.append(df)\n",
    "    #combdf = pd.concat([combdf, df], ignore_index=True)\n",
    "comb = pd.concat(dfs, ignore_index=True)\n",
    "print(comb.head())\n",
    "comb.to_csv(\"..\\CleanCorpora\\Canada\\__FULLCanadaCorporaCombined.txt\", sep='\\t', index=False, header=False)\n",
    "Canada=comb"
   ]
  },
  {
   "cell_type": "code",
   "execution_count": 10,
   "id": "92be0e15",
   "metadata": {},
   "outputs": [],
   "source": [
    "#Concatenate all 4 dialects\n",
    "dfs = pd.concat([India, HongKong, Philippines, Singapore, Canada], ignore_index=True)\n",
    "dfs.shape\n",
    "dfs.to_csv(\"..\\CleanCorpora\\Combined\\Combined.txt\", sep='\\t', index=False, header=False)"
   ]
  },
  {
   "cell_type": "code",
   "execution_count": 11,
   "id": "a6346cb2",
   "metadata": {},
   "outputs": [
    {
     "name": "stdout",
     "output_type": "stream",
     "text": [
      "897      dr foronda dean bautista mr uh bascara mr hil...\n",
      "577     few will disagree with the education commissio...\n",
      "1463       simon vaselenak is an economics professor a...\n",
      "1474     as the prime minister has pointed out he will...\n",
      "574     it has been suggested that hong kong ' s five ...\n",
      "                              ...                        \n",
      "757     thank you mr president uh mr president uh i 'd...\n",
      "138     mr boris yeltsin of russia had an extremely su...\n",
      "747     the political capital he used to have also had...\n",
      "1215     it really can't  laugh it can't be the centre...\n",
      "1019    okay right quickly please can't wait for all e...\n",
      "Name: Document, Length: 300, dtype: object\n"
     ]
    }
   ],
   "source": [
    "tfidf = TfidfVectorizer(stop_words='english', min_df=5, max_df=0.8, ngram_range=[1,3])\n",
    "dfs_x = dfs[\"Document\"]\n",
    "dfs_y = dfs[\"Label\"]\n",
    "x_train, x_test, y_train, y_test = train_test_split(dfs_x, dfs_y, test_size=0.2, random_state=4)\n",
    "print(x_test)\n",
    "x_train = tfidf.fit_transform(x_train)\n",
    "x_test = tfidf.transform(x_test)\n",
    "\n",
    "#clf = SVC(kernel=\"sigmoid\")\n",
    "clf = LinearSVC()\n",
    "#clf = RandomForestClassifier()\n",
    "clf = MultinomialNB()\n",
    "clf.fit(x_train, y_train)\n",
    "y_pred = clf.predict(x_test)\n"
   ]
  },
  {
   "cell_type": "code",
   "execution_count": 22,
   "id": "68481028",
   "metadata": {},
   "outputs": [
    {
     "name": "stdout",
     "output_type": "stream",
     "text": [
      "Accuracy: 95.67%\n",
      "Precision:  0.9568324757004003\n",
      "Recall:  0.9564081492895052\n",
      "fscore:  0.9565247209068041\n",
      "==========\n",
      "Feature Importance:\n",
      "\n",
      "Label: HongKong\n",
      "hong kong: 0.38213742332689277\n",
      "kong: 0.37403374993139016\n",
      "hong: 0.36742272840717394\n",
      "border: 0.28420027512923196\n",
      "china: 0.17259887771345112\n",
      "\n",
      "Label: Philippines\n",
      "president: 0.280299277086034\n",
      "dante: 0.27998010719336075\n",
      "ejercito: 0.21426447924018757\n",
      "president joseph ejercito: 0.20998508039502053\n",
      "ejercito estrada: 0.2091114236139359\n",
      "\n",
      "Label: Singapore\n",
      "laughed: 0.6503524449228311\n",
      "yeah: 0.32235194573193543\n",
      "uhm: 0.27548038998608054\n",
      "yes: 0.1870935597114094\n",
      "oh: 0.1470590039408193\n",
      "\n",
      "Label: Canada\n",
      "laugh: 0.2954939502426173\n",
      "uhh: 0.27262991899402433\n",
      "la presse: 0.21188821608663475\n",
      "presse: 0.21188821608663475\n",
      "avalanche: 0.18161847093140118\n",
      "\n",
      "Label: India\n",
      "kumar: 0.5013285805100012\n",
      "haryana: 0.37002847970532987\n",
      "singh: 0.3047919108541293\n",
      "ball: 0.2833514554110748\n",
      "corner: 0.18038766437711895\n",
      "==========\n",
      "Confusion Matrix: \n",
      "\n"
     ]
    },
    {
     "data": {
      "image/png": "[encoded data removed]",
      "text/plain": [
       "<Figure size 432x288 with 2 Axes>"
      ]
     },
     "metadata": {
      "needs_background": "light"
     },
     "output_type": "display_data"
    }
   ],
   "source": [
    "#Accuracy, Feature importance, and Confusion Matrix\n",
    "acc = accuracy_score(y_test, y_pred)\n",
    "print(\"Accuracy: {:.2f}%\".format(acc * 100))\n",
    "precision, recall, fscore, support = precision_recall_fscore_support(y_test, y_pred)\n",
    "print(\"Precision: \", np.mean(precision))\n",
    "print(\"Recall: \", np.mean(recall))\n",
    "print(\"fscore: \", np.mean(fscore))\n",
    "print(\"==========\")\n",
    "print(\"Feature Importance:\")\n",
    "labels = [\"HongKong\", \"Philippines\", \"Singapore\", \"Canada\", \"India\"]\n",
    "tfidf_values = x_train.toarray()\n",
    "feature_names = tfidf.get_feature_names_out()\n",
    "word_tfidf = {}\n",
    "for i, label in enumerate(labels):\n",
    "    for word, tfidf_val in zip(feature_names, tfidf_values[i]):\n",
    "        if label in word_tfidf:\n",
    "            word_tfidf[label][word] = tfidf_val\n",
    "        else:\n",
    "            word_tfidf[label] = {word: tfidf_val}\n",
    "\n",
    "sorted_words = {label:sorted(word_tfidf[label].items(), key=lambda x: x[1], reverse=True) for label in labels}\n",
    "\n",
    "n = 5\n",
    "for label in labels:\n",
    "    print(f\"\\nLabel: {label}\")\n",
    "    for word, tfidf_val in sorted_words[label][:n]:\n",
    "        print(f\"{word}: {tfidf_val}\")\n",
    "print(\"==========\")\n",
    "print(\"Confusion Matrix: \\n\")\n",
    "conf_matrix = confusion_matrix(y_test, y_pred, labels=clf.classes_)\n",
    "disp = ConfusionMatrixDisplay(confusion_matrix=conf_matrix, display_labels=clf.classes_)\n",
    "disp.plot()\n",
    "plt.show()\n"
   ]
  },
  {
   "cell_type": "code",
   "execution_count": 18,
   "id": "bd3239fb",
   "metadata": {},
   "outputs": [
    {
     "data": {
      "text/plain": [
       "(4, 4)"
      ]
     },
     "execution_count": 18,
     "metadata": {},
     "output_type": "execute_result"
    }
   ],
   "source": [
    "conf_matrix.shape"
   ]
  },
  {
   "cell_type": "code",
   "execution_count": 86,
   "id": "20edae44",
   "metadata": {},
   "outputs": [
    {
     "name": "stdout",
     "output_type": "stream",
     "text": [
      "['India' 'Philippines' 'Philippines' 'India' 'HongKong']\n",
      "Accuracy: 80.00%\n"
     ]
    }
   ],
   "source": [
    "#Test singular sample of Indian spoken englih to see\n",
    "test_sentences = tfidf.transform([\"Don’t write in English they said, English is not your mother-tongue. Why not leave Me alone, critics, friends, visiting cousins, Every one of you? Why not let me speak in Any language I like? The language I speak Becomes mine, its distortions, its queerness’s, All mine, mine alone. It is half English, half Indian, funny perhaps, but it is honest It is as human as I am human, don’t You see? It voices my joys, my longings, my Hopes and it is useful to me\", \"The early memories of my childhood is… like…my parents uh…made me to have long hairs and I was like young Sardarji in my early days. At that particular point of time I mean, I never knew what is  all about, what religion, what caste, and what community all belongs to. Ok, they made me and I was like that. Then my parents, my father, grandfather never had long hair. Uh… But, my grandmother, she came from a Sar…Sardar family. So they thought ok, let him make a…let us make him a Sardarji. And uh initially my schooling was in a convent’s Christian school. Out there, uh, even in nursery classes… when I used to, when I used to go to nursery, I mean…being a Sardarji it was quite diff…diffi…different thing, because all the students out there were…nobody was Sardarji in them. I was the only student, and uh… the memories of that time are, like, constantly pulling my hair, students pulling my hairs and making fun of me. Even I used to get uh bogged by this particular thing that why I am like this…in my whole class, I mean, I am the target of satire: students teasing me, even girls teasing me. So I used to ask my mom, like, why I am like this, I mean, why I am Sardarji? And nobody is in the class. I mean, but, at that point of time there was no particular, definite answer.\", \"I was born and raised in a small town in the Philippines, just south of Manila. Well, it’s a city now. I, I was raised bilingual, English and Tagalog — well well, trilingual, if you include the occasional Spanish and bits of French and German expletives. Um, I, I speak with an accent similar or, or related to British RP or, or Received Pronunciation — which is quite atypical, um, atypical for someone who was born and raised in the Philippines. Although my near-accent — sorry, my near RP accent is my default accent for formal occasions, I can also switch to a more local accent if I wanted to. So, I’ll be putting on a more typical Filipino accent now…\", \"I was born in Madurai, which is a temple of a city of temples. It’s called the city of temples. It’s situated in, located in Tamil Nadu, which is basically located in South India. And I was brought up in different places, not necessarily, though I was born Madurai. I was brought up places like Chennai, which is again the capital city of Tamil Nadu, and a big metropolitan city as far as South India is concerned. I was brought up in places like Coimbatore, which is the third largest city in Tamil Nadu, and I was also brought up in … I was also … I also did my initial year of schooling in Bombay, and it is the largest metropolitan city … very large metropolitan city. It’s actually now a cosmopolitan city as well. So, since I did my initial years of schooling in Bombay, and Tamil, my mother tongue, again, became a problem, I wasn’t introduced to Tamil as a writing language. I just used it for speaking. And for other conversations, for writing, I started using Hindi,which became my primary mode of writing, though I did my other languages. I mean, that was my second language, basically. My primary language is, of course, English, though my mother tongue was Tamil. When I came back to Chennai for my ninth grade, I finished my schooling and did my four years of college over there. I am now here at KU doing my masters in computer science. Basically, if you see, I think there are around 1845 languages spoken all over India. So, it becomes…I mean, each state has a separate language of its own, so the main mode of conversation in the southern states, since different states in Southern India have different languages. The main mode of conversation in Southern India becomes English. Whereas, if you go into the northern parts of India, Hindi becomes a primary language in most of the states. So, conversation is usually done in Hindi in the northern part of India. But between the southern…within the southern states and between the southern part of India and the northern India, it’s usually English. It’s not that Hindi isn’t spoken in South India. It’s picking up nowadays. I mean we can find that at least fifty to sixty percent of the people in South India speak very good Hindi as well as English. So, that’s the way our communication goes on, I mean, Hindi and English is the mode of language…the mode of communication when you go across states, across parts. Well, it all started off when the Mogul Emperor Jahangir allowed the East India  Company to start off a business in India. And, as it was seen that once in The East India Company got a strong foundation. They started occupying the states in order to bring India under a central rule, which they were eventually successful. But after the uprising in 1857, which we had the first war of indepen… Indian independence. The British Government decided to take it over from the East India Company, and it came under the entire British common rule. And we had great leaders like Mahatma Gandhi and Jawaharlal Nehru who fought for freedom, struggled and fought for freedom, which eventually we got in 1947, August 15th. Lord Mountbatten declared India an independent country. Which means, this was a wonderful experience for me, and I’d like to thank Dave for the opportunity.\", \"So I was born and raised in Hong Kong, like my parents, so I’ve been living in Hong Kong for my whole life, and I moved around the city for a bit, but I haven’t really lived outside of Hong Kong, even though I do travel a lot. And, um, I quite like eating a lot of local food: egg tarts, for example; that’s a classic that I don’t really eat nowadays because they’re very sweet and I don’t want to get diabetes. Um, apart from that, I really like eating dim sum, and that’s a pretty big part of our culture in Hong Kong actually. That’s eating dim sum and yumcha, which is essentially gathering in a teahouse and having dim sum, drinking tea together. It translates literally into “drinking tea,” so, yeah, um, I really like to do these things. Uh, for, really, during Sundays actually. And I like to read in my free time. I also like to write fiction. And, yes. I guess, uh, that’s it?\"])\n",
    "test_y_pred = clf.predict(test_sentences)\n",
    "print(test_y_pred)\n",
    "test_y_actual = [\"India\", \"India\", \"Philippines\",\"India\", \"HongKong\"]\n",
    "acc = accuracy_score(test_y_actual, test_y_pred)\n",
    "print(\"Accuracy: {:.2f}%\".format(acc * 100))"
   ]
  },
  {
   "cell_type": "code",
   "execution_count": null,
   "id": "a8ab1eb8",
   "metadata": {},
   "outputs": [],
   "source": []
  },
  {
   "cell_type": "code",
   "execution_count": null,
   "id": "520c699f",
   "metadata": {},
   "outputs": [],
   "source": []
  }
 ],
 "metadata": {
  "kernelspec": {
   "display_name": "Python 3 (ipykernel)",
   "language": "python",
   "name": "python3"
  },
  "language_info": {
   "codemirror_mode": {
    "name": "ipython",
    "version": 3
   },
   "file_extension": ".py",
   "mimetype": "text/x-python",
   "name": "python",
   "nbconvert_exporter": "python",
   "pygments_lexer": "ipython3",
   "version": "3.9.12"
  }
 },
 "nbformat": 4,
 "nbformat_minor": 5
}
